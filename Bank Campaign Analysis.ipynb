{
 "cells": [
  {
   "cell_type": "markdown",
   "metadata": {},
   "source": [
    "#           Predicting Customer Response to Bank Marketing Campaigns"
   ]
  },
  {
   "cell_type": "markdown",
   "metadata": {},
   "source": [
    "### Main Objective: Bank marketing Analysis using Machine Learning"
   ]
  },
  {
   "cell_type": "markdown",
   "metadata": {},
   "source": [
    "- This is a Bank Marketing dataset uploaded originally in the UCI Machine Learning Repository. The dataset gives information about a marketing campaign of a financial institution. We perform analysis on this dataset to find ways to look for strategies to improve future marketing campaigns for the bank."
   ]
  },
  {
   "cell_type": "code",
   "execution_count": 1,
   "metadata": {},
   "outputs": [],
   "source": [
    "# importing libraries\n",
    "import numpy as np\n",
    "import pandas as pd\n",
    "import matplotlib.pyplot as plt, seaborn as sns\n",
    "%matplotlib inline\n",
    "import warnings\n",
    "warnings.filterwarnings(\"ignore\")"
   ]
  },
  {
   "cell_type": "code",
   "execution_count": 2,
   "metadata": {
    "scrolled": true
   },
   "outputs": [
    {
     "data": {
      "text/html": [
       "<div>\n",
       "<style scoped>\n",
       "    .dataframe tbody tr th:only-of-type {\n",
       "        vertical-align: middle;\n",
       "    }\n",
       "\n",
       "    .dataframe tbody tr th {\n",
       "        vertical-align: top;\n",
       "    }\n",
       "\n",
       "    .dataframe thead th {\n",
       "        text-align: right;\n",
       "    }\n",
       "</style>\n",
       "<table border=\"1\" class=\"dataframe\">\n",
       "  <thead>\n",
       "    <tr style=\"text-align: right;\">\n",
       "      <th></th>\n",
       "      <th>age</th>\n",
       "      <th>job</th>\n",
       "      <th>salary</th>\n",
       "      <th>marital</th>\n",
       "      <th>education</th>\n",
       "      <th>targeted</th>\n",
       "      <th>default</th>\n",
       "      <th>balance</th>\n",
       "      <th>housing</th>\n",
       "      <th>loan</th>\n",
       "      <th>contact</th>\n",
       "      <th>day</th>\n",
       "      <th>month</th>\n",
       "      <th>duration</th>\n",
       "      <th>campaign</th>\n",
       "      <th>pdays</th>\n",
       "      <th>previous</th>\n",
       "      <th>poutcome</th>\n",
       "      <th>response</th>\n",
       "    </tr>\n",
       "  </thead>\n",
       "  <tbody>\n",
       "    <tr>\n",
       "      <th>0</th>\n",
       "      <td>58</td>\n",
       "      <td>management</td>\n",
       "      <td>100000</td>\n",
       "      <td>married</td>\n",
       "      <td>tertiary</td>\n",
       "      <td>yes</td>\n",
       "      <td>no</td>\n",
       "      <td>2143</td>\n",
       "      <td>yes</td>\n",
       "      <td>no</td>\n",
       "      <td>unknown</td>\n",
       "      <td>5</td>\n",
       "      <td>may</td>\n",
       "      <td>261</td>\n",
       "      <td>1</td>\n",
       "      <td>-1</td>\n",
       "      <td>0</td>\n",
       "      <td>other</td>\n",
       "      <td>no</td>\n",
       "    </tr>\n",
       "    <tr>\n",
       "      <th>1</th>\n",
       "      <td>44</td>\n",
       "      <td>technician</td>\n",
       "      <td>60000</td>\n",
       "      <td>single</td>\n",
       "      <td>secondary</td>\n",
       "      <td>yes</td>\n",
       "      <td>no</td>\n",
       "      <td>29</td>\n",
       "      <td>yes</td>\n",
       "      <td>no</td>\n",
       "      <td>unknown</td>\n",
       "      <td>5</td>\n",
       "      <td>may</td>\n",
       "      <td>151</td>\n",
       "      <td>1</td>\n",
       "      <td>-1</td>\n",
       "      <td>0</td>\n",
       "      <td>other</td>\n",
       "      <td>no</td>\n",
       "    </tr>\n",
       "    <tr>\n",
       "      <th>2</th>\n",
       "      <td>33</td>\n",
       "      <td>entrepreneur</td>\n",
       "      <td>120000</td>\n",
       "      <td>married</td>\n",
       "      <td>secondary</td>\n",
       "      <td>yes</td>\n",
       "      <td>no</td>\n",
       "      <td>2</td>\n",
       "      <td>yes</td>\n",
       "      <td>yes</td>\n",
       "      <td>unknown</td>\n",
       "      <td>5</td>\n",
       "      <td>may</td>\n",
       "      <td>76</td>\n",
       "      <td>1</td>\n",
       "      <td>-1</td>\n",
       "      <td>0</td>\n",
       "      <td>other</td>\n",
       "      <td>no</td>\n",
       "    </tr>\n",
       "    <tr>\n",
       "      <th>3</th>\n",
       "      <td>47</td>\n",
       "      <td>blue-collar</td>\n",
       "      <td>20000</td>\n",
       "      <td>married</td>\n",
       "      <td>unknown</td>\n",
       "      <td>no</td>\n",
       "      <td>no</td>\n",
       "      <td>1506</td>\n",
       "      <td>yes</td>\n",
       "      <td>no</td>\n",
       "      <td>unknown</td>\n",
       "      <td>5</td>\n",
       "      <td>may</td>\n",
       "      <td>92</td>\n",
       "      <td>1</td>\n",
       "      <td>-1</td>\n",
       "      <td>0</td>\n",
       "      <td>other</td>\n",
       "      <td>no</td>\n",
       "    </tr>\n",
       "    <tr>\n",
       "      <th>4</th>\n",
       "      <td>33</td>\n",
       "      <td>unknown</td>\n",
       "      <td>0</td>\n",
       "      <td>single</td>\n",
       "      <td>unknown</td>\n",
       "      <td>no</td>\n",
       "      <td>no</td>\n",
       "      <td>1</td>\n",
       "      <td>no</td>\n",
       "      <td>no</td>\n",
       "      <td>unknown</td>\n",
       "      <td>5</td>\n",
       "      <td>may</td>\n",
       "      <td>198</td>\n",
       "      <td>1</td>\n",
       "      <td>-1</td>\n",
       "      <td>0</td>\n",
       "      <td>other</td>\n",
       "      <td>no</td>\n",
       "    </tr>\n",
       "    <tr>\n",
       "      <th>5</th>\n",
       "      <td>35</td>\n",
       "      <td>management</td>\n",
       "      <td>100000</td>\n",
       "      <td>married</td>\n",
       "      <td>tertiary</td>\n",
       "      <td>yes</td>\n",
       "      <td>no</td>\n",
       "      <td>231</td>\n",
       "      <td>yes</td>\n",
       "      <td>no</td>\n",
       "      <td>unknown</td>\n",
       "      <td>5</td>\n",
       "      <td>may</td>\n",
       "      <td>139</td>\n",
       "      <td>1</td>\n",
       "      <td>-1</td>\n",
       "      <td>0</td>\n",
       "      <td>other</td>\n",
       "      <td>no</td>\n",
       "    </tr>\n",
       "    <tr>\n",
       "      <th>6</th>\n",
       "      <td>28</td>\n",
       "      <td>management</td>\n",
       "      <td>100000</td>\n",
       "      <td>single</td>\n",
       "      <td>tertiary</td>\n",
       "      <td>no</td>\n",
       "      <td>no</td>\n",
       "      <td>447</td>\n",
       "      <td>yes</td>\n",
       "      <td>yes</td>\n",
       "      <td>unknown</td>\n",
       "      <td>5</td>\n",
       "      <td>may</td>\n",
       "      <td>217</td>\n",
       "      <td>1</td>\n",
       "      <td>-1</td>\n",
       "      <td>0</td>\n",
       "      <td>other</td>\n",
       "      <td>no</td>\n",
       "    </tr>\n",
       "    <tr>\n",
       "      <th>7</th>\n",
       "      <td>42</td>\n",
       "      <td>entrepreneur</td>\n",
       "      <td>120000</td>\n",
       "      <td>divorced</td>\n",
       "      <td>tertiary</td>\n",
       "      <td>no</td>\n",
       "      <td>yes</td>\n",
       "      <td>2</td>\n",
       "      <td>yes</td>\n",
       "      <td>no</td>\n",
       "      <td>unknown</td>\n",
       "      <td>5</td>\n",
       "      <td>may</td>\n",
       "      <td>380</td>\n",
       "      <td>1</td>\n",
       "      <td>-1</td>\n",
       "      <td>0</td>\n",
       "      <td>other</td>\n",
       "      <td>no</td>\n",
       "    </tr>\n",
       "    <tr>\n",
       "      <th>8</th>\n",
       "      <td>58</td>\n",
       "      <td>retired</td>\n",
       "      <td>55000</td>\n",
       "      <td>married</td>\n",
       "      <td>primary</td>\n",
       "      <td>yes</td>\n",
       "      <td>no</td>\n",
       "      <td>121</td>\n",
       "      <td>yes</td>\n",
       "      <td>no</td>\n",
       "      <td>unknown</td>\n",
       "      <td>5</td>\n",
       "      <td>may</td>\n",
       "      <td>50</td>\n",
       "      <td>1</td>\n",
       "      <td>-1</td>\n",
       "      <td>0</td>\n",
       "      <td>other</td>\n",
       "      <td>no</td>\n",
       "    </tr>\n",
       "    <tr>\n",
       "      <th>9</th>\n",
       "      <td>43</td>\n",
       "      <td>technician</td>\n",
       "      <td>60000</td>\n",
       "      <td>single</td>\n",
       "      <td>secondary</td>\n",
       "      <td>yes</td>\n",
       "      <td>no</td>\n",
       "      <td>593</td>\n",
       "      <td>yes</td>\n",
       "      <td>no</td>\n",
       "      <td>unknown</td>\n",
       "      <td>5</td>\n",
       "      <td>may</td>\n",
       "      <td>55</td>\n",
       "      <td>1</td>\n",
       "      <td>-1</td>\n",
       "      <td>0</td>\n",
       "      <td>other</td>\n",
       "      <td>no</td>\n",
       "    </tr>\n",
       "  </tbody>\n",
       "</table>\n",
       "</div>"
      ],
      "text/plain": [
       "   age           job  salary   marital  education targeted default  balance  \\\n",
       "0   58    management  100000   married   tertiary      yes      no     2143   \n",
       "1   44    technician   60000    single  secondary      yes      no       29   \n",
       "2   33  entrepreneur  120000   married  secondary      yes      no        2   \n",
       "3   47   blue-collar   20000   married    unknown       no      no     1506   \n",
       "4   33       unknown       0    single    unknown       no      no        1   \n",
       "5   35    management  100000   married   tertiary      yes      no      231   \n",
       "6   28    management  100000    single   tertiary       no      no      447   \n",
       "7   42  entrepreneur  120000  divorced   tertiary       no     yes        2   \n",
       "8   58       retired   55000   married    primary      yes      no      121   \n",
       "9   43    technician   60000    single  secondary      yes      no      593   \n",
       "\n",
       "  housing loan  contact  day month  duration  campaign  pdays  previous  \\\n",
       "0     yes   no  unknown    5   may       261         1     -1         0   \n",
       "1     yes   no  unknown    5   may       151         1     -1         0   \n",
       "2     yes  yes  unknown    5   may        76         1     -1         0   \n",
       "3     yes   no  unknown    5   may        92         1     -1         0   \n",
       "4      no   no  unknown    5   may       198         1     -1         0   \n",
       "5     yes   no  unknown    5   may       139         1     -1         0   \n",
       "6     yes  yes  unknown    5   may       217         1     -1         0   \n",
       "7     yes   no  unknown    5   may       380         1     -1         0   \n",
       "8     yes   no  unknown    5   may        50         1     -1         0   \n",
       "9     yes   no  unknown    5   may        55         1     -1         0   \n",
       "\n",
       "  poutcome response  \n",
       "0    other       no  \n",
       "1    other       no  \n",
       "2    other       no  \n",
       "3    other       no  \n",
       "4    other       no  \n",
       "5    other       no  \n",
       "6    other       no  \n",
       "7    other       no  \n",
       "8    other       no  \n",
       "9    other       no  "
      ]
     },
     "execution_count": 2,
     "metadata": {},
     "output_type": "execute_result"
    }
   ],
   "source": [
    "df=pd.read_csv(\"D:\\\\SEM II\\\\Machine Learning\\\\MLProj\\\\archive (9)\\\\bank-marketing.csv\")            \n",
    "df.head(10)"
   ]
  },
  {
   "cell_type": "code",
   "execution_count": 3,
   "metadata": {},
   "outputs": [
    {
     "data": {
      "text/plain": [
       "(45211, 19)"
      ]
     },
     "execution_count": 3,
     "metadata": {},
     "output_type": "execute_result"
    }
   ],
   "source": [
    "df.shape"
   ]
  },
  {
   "cell_type": "code",
   "execution_count": 4,
   "metadata": {},
   "outputs": [
    {
     "data": {
      "text/html": [
       "<div>\n",
       "<style scoped>\n",
       "    .dataframe tbody tr th:only-of-type {\n",
       "        vertical-align: middle;\n",
       "    }\n",
       "\n",
       "    .dataframe tbody tr th {\n",
       "        vertical-align: top;\n",
       "    }\n",
       "\n",
       "    .dataframe thead th {\n",
       "        text-align: right;\n",
       "    }\n",
       "</style>\n",
       "<table border=\"1\" class=\"dataframe\">\n",
       "  <thead>\n",
       "    <tr style=\"text-align: right;\">\n",
       "      <th></th>\n",
       "      <th>age</th>\n",
       "      <th>salary</th>\n",
       "      <th>balance</th>\n",
       "      <th>day</th>\n",
       "      <th>duration</th>\n",
       "      <th>campaign</th>\n",
       "      <th>pdays</th>\n",
       "      <th>previous</th>\n",
       "    </tr>\n",
       "  </thead>\n",
       "  <tbody>\n",
       "    <tr>\n",
       "      <th>count</th>\n",
       "      <td>45211.000000</td>\n",
       "      <td>45211.000000</td>\n",
       "      <td>45211.000000</td>\n",
       "      <td>45211.000000</td>\n",
       "      <td>45211.000000</td>\n",
       "      <td>45211.000000</td>\n",
       "      <td>45211.000000</td>\n",
       "      <td>45211.000000</td>\n",
       "    </tr>\n",
       "    <tr>\n",
       "      <th>mean</th>\n",
       "      <td>40.936210</td>\n",
       "      <td>57006.171065</td>\n",
       "      <td>1362.272058</td>\n",
       "      <td>15.806419</td>\n",
       "      <td>258.163080</td>\n",
       "      <td>2.763841</td>\n",
       "      <td>40.197828</td>\n",
       "      <td>0.580323</td>\n",
       "    </tr>\n",
       "    <tr>\n",
       "      <th>std</th>\n",
       "      <td>10.618762</td>\n",
       "      <td>32085.718415</td>\n",
       "      <td>3044.765829</td>\n",
       "      <td>8.322476</td>\n",
       "      <td>257.527812</td>\n",
       "      <td>3.098021</td>\n",
       "      <td>100.128746</td>\n",
       "      <td>2.303441</td>\n",
       "    </tr>\n",
       "    <tr>\n",
       "      <th>min</th>\n",
       "      <td>18.000000</td>\n",
       "      <td>0.000000</td>\n",
       "      <td>-8019.000000</td>\n",
       "      <td>1.000000</td>\n",
       "      <td>0.000000</td>\n",
       "      <td>1.000000</td>\n",
       "      <td>-1.000000</td>\n",
       "      <td>0.000000</td>\n",
       "    </tr>\n",
       "    <tr>\n",
       "      <th>25%</th>\n",
       "      <td>33.000000</td>\n",
       "      <td>20000.000000</td>\n",
       "      <td>72.000000</td>\n",
       "      <td>8.000000</td>\n",
       "      <td>103.000000</td>\n",
       "      <td>1.000000</td>\n",
       "      <td>-1.000000</td>\n",
       "      <td>0.000000</td>\n",
       "    </tr>\n",
       "    <tr>\n",
       "      <th>50%</th>\n",
       "      <td>39.000000</td>\n",
       "      <td>60000.000000</td>\n",
       "      <td>448.000000</td>\n",
       "      <td>16.000000</td>\n",
       "      <td>180.000000</td>\n",
       "      <td>2.000000</td>\n",
       "      <td>-1.000000</td>\n",
       "      <td>0.000000</td>\n",
       "    </tr>\n",
       "    <tr>\n",
       "      <th>75%</th>\n",
       "      <td>48.000000</td>\n",
       "      <td>70000.000000</td>\n",
       "      <td>1428.000000</td>\n",
       "      <td>21.000000</td>\n",
       "      <td>319.000000</td>\n",
       "      <td>3.000000</td>\n",
       "      <td>-1.000000</td>\n",
       "      <td>0.000000</td>\n",
       "    </tr>\n",
       "    <tr>\n",
       "      <th>max</th>\n",
       "      <td>95.000000</td>\n",
       "      <td>120000.000000</td>\n",
       "      <td>102127.000000</td>\n",
       "      <td>31.000000</td>\n",
       "      <td>4918.000000</td>\n",
       "      <td>63.000000</td>\n",
       "      <td>871.000000</td>\n",
       "      <td>275.000000</td>\n",
       "    </tr>\n",
       "  </tbody>\n",
       "</table>\n",
       "</div>"
      ],
      "text/plain": [
       "                age         salary        balance           day      duration  \\\n",
       "count  45211.000000   45211.000000   45211.000000  45211.000000  45211.000000   \n",
       "mean      40.936210   57006.171065    1362.272058     15.806419    258.163080   \n",
       "std       10.618762   32085.718415    3044.765829      8.322476    257.527812   \n",
       "min       18.000000       0.000000   -8019.000000      1.000000      0.000000   \n",
       "25%       33.000000   20000.000000      72.000000      8.000000    103.000000   \n",
       "50%       39.000000   60000.000000     448.000000     16.000000    180.000000   \n",
       "75%       48.000000   70000.000000    1428.000000     21.000000    319.000000   \n",
       "max       95.000000  120000.000000  102127.000000     31.000000   4918.000000   \n",
       "\n",
       "           campaign         pdays      previous  \n",
       "count  45211.000000  45211.000000  45211.000000  \n",
       "mean       2.763841     40.197828      0.580323  \n",
       "std        3.098021    100.128746      2.303441  \n",
       "min        1.000000     -1.000000      0.000000  \n",
       "25%        1.000000     -1.000000      0.000000  \n",
       "50%        2.000000     -1.000000      0.000000  \n",
       "75%        3.000000     -1.000000      0.000000  \n",
       "max       63.000000    871.000000    275.000000  "
      ]
     },
     "execution_count": 4,
     "metadata": {},
     "output_type": "execute_result"
    }
   ],
   "source": [
    "df.describe()"
   ]
  },
  {
   "cell_type": "code",
   "execution_count": 5,
   "metadata": {},
   "outputs": [
    {
     "data": {
      "text/html": [
       "<div>\n",
       "<style scoped>\n",
       "    .dataframe tbody tr th:only-of-type {\n",
       "        vertical-align: middle;\n",
       "    }\n",
       "\n",
       "    .dataframe tbody tr th {\n",
       "        vertical-align: top;\n",
       "    }\n",
       "\n",
       "    .dataframe thead th {\n",
       "        text-align: right;\n",
       "    }\n",
       "</style>\n",
       "<table border=\"1\" class=\"dataframe\">\n",
       "  <thead>\n",
       "    <tr style=\"text-align: right;\">\n",
       "      <th></th>\n",
       "      <th>job</th>\n",
       "      <th>marital</th>\n",
       "      <th>education</th>\n",
       "      <th>targeted</th>\n",
       "      <th>default</th>\n",
       "      <th>housing</th>\n",
       "      <th>loan</th>\n",
       "      <th>contact</th>\n",
       "      <th>month</th>\n",
       "      <th>poutcome</th>\n",
       "      <th>response</th>\n",
       "    </tr>\n",
       "  </thead>\n",
       "  <tbody>\n",
       "    <tr>\n",
       "      <th>count</th>\n",
       "      <td>45211</td>\n",
       "      <td>45211</td>\n",
       "      <td>45211</td>\n",
       "      <td>45211</td>\n",
       "      <td>45211</td>\n",
       "      <td>45211</td>\n",
       "      <td>45211</td>\n",
       "      <td>45211</td>\n",
       "      <td>45211</td>\n",
       "      <td>45211</td>\n",
       "      <td>45211</td>\n",
       "    </tr>\n",
       "    <tr>\n",
       "      <th>unique</th>\n",
       "      <td>12</td>\n",
       "      <td>3</td>\n",
       "      <td>4</td>\n",
       "      <td>2</td>\n",
       "      <td>2</td>\n",
       "      <td>2</td>\n",
       "      <td>2</td>\n",
       "      <td>3</td>\n",
       "      <td>12</td>\n",
       "      <td>3</td>\n",
       "      <td>2</td>\n",
       "    </tr>\n",
       "    <tr>\n",
       "      <th>top</th>\n",
       "      <td>blue-collar</td>\n",
       "      <td>married</td>\n",
       "      <td>secondary</td>\n",
       "      <td>yes</td>\n",
       "      <td>no</td>\n",
       "      <td>yes</td>\n",
       "      <td>no</td>\n",
       "      <td>cellular</td>\n",
       "      <td>may</td>\n",
       "      <td>other</td>\n",
       "      <td>no</td>\n",
       "    </tr>\n",
       "    <tr>\n",
       "      <th>freq</th>\n",
       "      <td>9732</td>\n",
       "      <td>27214</td>\n",
       "      <td>23202</td>\n",
       "      <td>37091</td>\n",
       "      <td>44396</td>\n",
       "      <td>25130</td>\n",
       "      <td>37967</td>\n",
       "      <td>29285</td>\n",
       "      <td>13766</td>\n",
       "      <td>38799</td>\n",
       "      <td>39922</td>\n",
       "    </tr>\n",
       "  </tbody>\n",
       "</table>\n",
       "</div>"
      ],
      "text/plain": [
       "                job  marital  education targeted default housing   loan  \\\n",
       "count         45211    45211      45211    45211   45211   45211  45211   \n",
       "unique           12        3          4        2       2       2      2   \n",
       "top     blue-collar  married  secondary      yes      no     yes     no   \n",
       "freq           9732    27214      23202    37091   44396   25130  37967   \n",
       "\n",
       "         contact  month poutcome response  \n",
       "count      45211  45211    45211    45211  \n",
       "unique         3     12        3        2  \n",
       "top     cellular    may    other       no  \n",
       "freq       29285  13766    38799    39922  "
      ]
     },
     "execution_count": 5,
     "metadata": {},
     "output_type": "execute_result"
    }
   ],
   "source": [
    "df.describe(include=['O'])"
   ]
  },
  {
   "cell_type": "markdown",
   "metadata": {},
   "source": [
    "## Find Missing Values"
   ]
  },
  {
   "cell_type": "code",
   "execution_count": 6,
   "metadata": {},
   "outputs": [
    {
     "data": {
      "text/plain": [
       "age          0\n",
       "job          0\n",
       "salary       0\n",
       "marital      0\n",
       "education    0\n",
       "targeted     0\n",
       "default      0\n",
       "balance      0\n",
       "housing      0\n",
       "loan         0\n",
       "contact      0\n",
       "day          0\n",
       "month        0\n",
       "duration     0\n",
       "campaign     0\n",
       "pdays        0\n",
       "previous     0\n",
       "poutcome     0\n",
       "response     0\n",
       "dtype: int64"
      ]
     },
     "execution_count": 6,
     "metadata": {},
     "output_type": "execute_result"
    }
   ],
   "source": [
    "df.isnull().sum()"
   ]
  },
  {
   "cell_type": "markdown",
   "metadata": {},
   "source": [
    "- No missing values were found"
   ]
  },
  {
   "cell_type": "code",
   "execution_count": 7,
   "metadata": {},
   "outputs": [
    {
     "name": "stdout",
     "output_type": "stream",
     "text": [
      "age 77\n",
      "job 12\n",
      "salary 11\n",
      "marital 3\n",
      "education 4\n",
      "targeted 2\n",
      "default 2\n",
      "balance 7168\n",
      "housing 2\n",
      "loan 2\n",
      "contact 3\n",
      "day 31\n",
      "month 12\n",
      "duration 1573\n",
      "campaign 48\n",
      "pdays 559\n",
      "previous 41\n",
      "poutcome 3\n",
      "response 2\n"
     ]
    }
   ],
   "source": [
    "for column in df.columns:\n",
    "    print(column,df[column].nunique())"
   ]
  },
  {
   "cell_type": "code",
   "execution_count": 8,
   "metadata": {},
   "outputs": [],
   "source": [
    "df1=df.copy()"
   ]
  },
  {
   "cell_type": "markdown",
   "metadata": {},
   "source": [
    "## 'pdays' Analysis"
   ]
  },
  {
   "cell_type": "markdown",
   "metadata": {},
   "source": [
    "- We exclude all the cases of -1 in pdays column. So, by doing this we can get only thoe customer who had previously taken part in a campaign."
   ]
  },
  {
   "cell_type": "code",
   "execution_count": 9,
   "metadata": {},
   "outputs": [],
   "source": [
    "df1.drop(df1[df1['pdays'] < 0].index, inplace = True) "
   ]
  },
  {
   "cell_type": "code",
   "execution_count": 10,
   "metadata": {},
   "outputs": [
    {
     "data": {
      "text/plain": [
       "(8257, 19)"
      ]
     },
     "execution_count": 10,
     "metadata": {},
     "output_type": "execute_result"
    }
   ],
   "source": [
    "df1.shape"
   ]
  },
  {
   "cell_type": "code",
   "execution_count": 11,
   "metadata": {},
   "outputs": [
    {
     "data": {
      "text/plain": [
       "count    8257.000000\n",
       "mean      224.577692\n",
       "std       115.344035\n",
       "min         1.000000\n",
       "25%       133.000000\n",
       "50%       194.000000\n",
       "75%       327.000000\n",
       "max       871.000000\n",
       "Name: pdays, dtype: float64"
      ]
     },
     "execution_count": 11,
     "metadata": {},
     "output_type": "execute_result"
    }
   ],
   "source": [
    "df1.pdays.describe()"
   ]
  },
  {
   "cell_type": "markdown",
   "metadata": {},
   "source": [
    "- Previously Mean was 40 and Median was -1 , now after limiting -1 values we have Mean as 224 and Median as 194.\n",
    "This time Mean and Median has changed significantly because we have removed the case where pdays value is -1 i.e. we have removed the customer that were not contacted previously for campaign."
   ]
  },
  {
   "cell_type": "code",
   "execution_count": 12,
   "metadata": {},
   "outputs": [
    {
     "name": "stdout",
     "output_type": "stream",
     "text": [
      "Text(0.5, 1.0, 'With filtering pdays column')\n"
     ]
    },
    {
     "data": {
      "image/png": "[encoded data removed]",
      "text/plain": [
       "<Figure size 432x288 with 1 Axes>"
      ]
     },
     "metadata": {
      "needs_background": "light"
     },
     "output_type": "display_data"
    }
   ],
   "source": [
    "print(sns.boxplot(x=df1['pdays']).set_title('With filtering pdays column'))"
   ]
  },
  {
   "cell_type": "markdown",
   "metadata": {},
   "source": [
    "- Removing outliers from 'pdays' column using IQR and Quantile Strategies"
   ]
  },
  {
   "cell_type": "code",
   "execution_count": 13,
   "metadata": {},
   "outputs": [
    {
     "name": "stdout",
     "output_type": "stream",
     "text": [
      "Number of Outliers Detected in pdays using strategy A: 49\n",
      "Number of Outliers Detected in pdays using strategy B: 786\n"
     ]
    }
   ],
   "source": [
    "#A) check IQR strategy\n",
    "Q1 = df1.pdays.quantile(0.25)\n",
    "Q3 = df1.pdays.quantile(0.75)\n",
    "\n",
    "IQR=Q3-Q1\n",
    "\n",
    "lower=Q1-1.5*IQR\n",
    "upper=Q3+1.5*IQR\n",
    "\n",
    "df2 = df1[(df1['pdays']<lower) | (df1['pdays']>upper)]\n",
    "\n",
    "print(\"Number of Outliers Detected in pdays using strategy A:\",df2.shape[0])\n",
    "\n",
    "#B) check quantile strategy\n",
    "max_val = df1['pdays'].quantile(0.95)        # df.Age.quantile(0.95)\n",
    "min_val = df1['pdays'].quantile(0.05)        # df.Age.quantile(0.05)\n",
    "\n",
    "df3 = df1[(df1['pdays']<min_val) | (df1['pdays']>max_val)]\n",
    "\n",
    "print(\"Number of Outliers Detected in pdays using strategy B:\",df3.shape[0])"
   ]
  },
  {
   "cell_type": "markdown",
   "metadata": {},
   "source": [
    "- Since A gives smaller value, we go for IQR strategy. Now we replace the outliers with lower and upper values correspondingly"
   ]
  },
  {
   "cell_type": "code",
   "execution_count": 14,
   "metadata": {},
   "outputs": [],
   "source": [
    "for i,data in df1.iterrows():\n",
    "    if data['pdays']<lower:\n",
    "        df1.at[i,'pdays']=lower  # random no in proper range\n",
    "    elif data['pdays']>upper:\n",
    "        df1.at[i,'pdays']=upper  # random no in proper range"
   ]
  },
  {
   "cell_type": "code",
   "execution_count": 15,
   "metadata": {},
   "outputs": [
    {
     "name": "stdout",
     "output_type": "stream",
     "text": [
      "AxesSubplot(0.125,0.125;0.775x0.755)\n"
     ]
    },
    {
     "data": {
      "image/png": "[encoded data removed]",
      "text/plain": [
       "<Figure size 432x288 with 1 Axes>"
      ]
     },
     "metadata": {
      "needs_background": "light"
     },
     "output_type": "display_data"
    }
   ],
   "source": [
    "print(sns.boxplot(x=df1['pdays']))"
   ]
  },
  {
   "cell_type": "markdown",
   "metadata": {},
   "source": [
    "## 'education' Analysis"
   ]
  },
  {
   "cell_type": "code",
   "execution_count": 16,
   "metadata": {},
   "outputs": [
    {
     "data": {
      "text/plain": [
       "24060    False\n",
       "24062    False\n",
       "24064    False\n",
       "24072    False\n",
       "24077    False\n",
       "         ...  \n",
       "45199    False\n",
       "45201    False\n",
       "45204    False\n",
       "45208    False\n",
       "45210    False\n",
       "Name: education, Length: 8257, dtype: bool"
      ]
     },
     "execution_count": 16,
     "metadata": {},
     "output_type": "execute_result"
    }
   ],
   "source": [
    "#  Drop customer values with 'other' education\n",
    "condition3 = (df1['education'] == 'other')\n",
    "condition3"
   ]
  },
  {
   "cell_type": "code",
   "execution_count": 17,
   "metadata": {},
   "outputs": [
    {
     "data": {
      "text/plain": [
       "(8257, 19)"
      ]
     },
     "execution_count": 17,
     "metadata": {},
     "output_type": "execute_result"
    }
   ],
   "source": [
    "df1.shape"
   ]
  },
  {
   "cell_type": "code",
   "execution_count": 18,
   "metadata": {},
   "outputs": [
    {
     "name": "stdout",
     "output_type": "stream",
     "text": [
      "education\n",
      "primary      520\n",
      "secondary    527\n",
      "tertiary     775\n",
      "unknown      782\n",
      "Name: balance, dtype: int64\n"
     ]
    }
   ],
   "source": [
    "print(df1.groupby(['education'])['balance'].median())"
   ]
  },
  {
   "cell_type": "code",
   "execution_count": 19,
   "metadata": {},
   "outputs": [
    {
     "data": {
      "text/plain": [
       "<AxesSubplot:ylabel='education'>"
      ]
     },
     "execution_count": 19,
     "metadata": {},
     "output_type": "execute_result"
    },
    {
     "data": {
      "image/png": "[encoded data removed]",
      "text/plain": [
       "<Figure size 432x288 with 1 Axes>"
      ]
     },
     "metadata": {
      "needs_background": "light"
     },
     "output_type": "display_data"
    }
   ],
   "source": [
    "df1.groupby(['education'])['balance'].median().plot.barh()"
   ]
  },
  {
   "cell_type": "markdown",
   "metadata": {},
   "source": [
    "- We can conclude from the graph that customer with tertiary level of education has highest median value for balance."
   ]
  },
  {
   "cell_type": "code",
   "execution_count": 20,
   "metadata": {},
   "outputs": [],
   "source": [
    "#bivariate analysis on job and education\n",
    "df1[['job','education']] = df1[['job','education']].replace(['unknown'],'other')"
   ]
  },
  {
   "cell_type": "markdown",
   "metadata": {},
   "source": [
    "## 'job' Analysis"
   ]
  },
  {
   "cell_type": "code",
   "execution_count": 21,
   "metadata": {},
   "outputs": [
    {
     "data": {
      "text/plain": [
       "array(['admin.', 'services', 'management', 'technician', 'blue-collar',\n",
       "       'unemployed', 'entrepreneur', 'housemaid', 'retired',\n",
       "       'self-employed', 'other', 'student'], dtype=object)"
      ]
     },
     "execution_count": 21,
     "metadata": {},
     "output_type": "execute_result"
    }
   ],
   "source": [
    "df1[\"job\"].unique()"
   ]
  },
  {
   "cell_type": "code",
   "execution_count": 22,
   "metadata": {},
   "outputs": [
    {
     "data": {
      "text/plain": [
       "management       1826\n",
       "blue-collar      1617\n",
       "technician       1342\n",
       "admin.           1089\n",
       "services          706\n",
       "retired           488\n",
       "student           285\n",
       "self-employed     281\n",
       "entrepreneur      225\n",
       "unemployed        213\n",
       "housemaid         152\n",
       "other              33\n",
       "Name: job, dtype: int64"
      ]
     },
     "execution_count": 22,
     "metadata": {},
     "output_type": "execute_result"
    }
   ],
   "source": [
    "def initial_job(x):\n",
    "    return x\n",
    "job=df1[\"job\"]\n",
    "\n",
    "job=job.apply(initial_job)\n",
    "job.value_counts()"
   ]
  },
  {
   "cell_type": "code",
   "execution_count": 23,
   "metadata": {},
   "outputs": [
    {
     "data": {
      "text/plain": [
       "<AxesSubplot:ylabel='job'>"
      ]
     },
     "execution_count": 23,
     "metadata": {},
     "output_type": "execute_result"
    },
    {
     "data": {
      "image/png": "[encoded data removed]",
      "text/plain": [
       "<Figure size 432x288 with 1 Axes>"
      ]
     },
     "metadata": {},
     "output_type": "display_data"
    }
   ],
   "source": [
    "job.value_counts().plot(kind='pie')"
   ]
  },
  {
   "cell_type": "markdown",
   "metadata": {},
   "source": [
    "## 'response' analysis"
   ]
  },
  {
   "cell_type": "code",
   "execution_count": 24,
   "metadata": {},
   "outputs": [
    {
     "name": "stdout",
     "output_type": "stream",
     "text": [
      "no     6352\n",
      "yes    1905\n",
      "Name: response, dtype: int64\n",
      "no     0.769287\n",
      "yes    0.230713\n",
      "Name: response, dtype: float64\n"
     ]
    }
   ],
   "source": [
    "print(df1.response.value_counts())\n",
    "print(df1.response.value_counts(normalize=True))"
   ]
  },
  {
   "cell_type": "code",
   "execution_count": 25,
   "metadata": {},
   "outputs": [],
   "source": [
    "df1.replace({'response': {\"yes\": 1,'no':0}},inplace=True)"
   ]
  },
  {
   "cell_type": "code",
   "execution_count": 26,
   "metadata": {},
   "outputs": [
    {
     "data": {
      "text/plain": [
       "0    6352\n",
       "1    1905\n",
       "Name: response, dtype: int64"
      ]
     },
     "execution_count": 26,
     "metadata": {},
     "output_type": "execute_result"
    }
   ],
   "source": [
    "df1.response.value_counts()"
   ]
  },
  {
   "cell_type": "markdown",
   "metadata": {},
   "source": [
    "## 'balance' Analysis"
   ]
  },
  {
   "cell_type": "code",
   "execution_count": 27,
   "metadata": {},
   "outputs": [
    {
     "name": "stdout",
     "output_type": "stream",
     "text": [
      "AxesSubplot(0.125,0.125;0.775x0.755)\n"
     ]
    },
    {
     "data": {
      "image/png": "[encoded data removed]",
      "text/plain": [
       "<Figure size 432x288 with 1 Axes>"
      ]
     },
     "metadata": {
      "needs_background": "light"
     },
     "output_type": "display_data"
    }
   ],
   "source": [
    "print(sns.boxplot(x=df1['balance']))"
   ]
  },
  {
   "cell_type": "markdown",
   "metadata": {},
   "source": [
    "- Removing outliers from 'balance' column using IQR and Quantile Strategies"
   ]
  },
  {
   "cell_type": "code",
   "execution_count": 28,
   "metadata": {},
   "outputs": [
    {
     "name": "stdout",
     "output_type": "stream",
     "text": [
      "Number of Outliers Detected in balance using strategy A: 806\n",
      "Number of Outliers Detected in balance using strategy B: 825\n"
     ]
    }
   ],
   "source": [
    "#A) check IQR strategy\n",
    "Q1 = df1.balance.quantile(0.25)\n",
    "Q3 = df1.balance.quantile(0.75)\n",
    "\n",
    "IQR=Q3-Q1\n",
    "\n",
    "lower=Q1-1.5*IQR\n",
    "upper=Q3+1.5*IQR\n",
    "\n",
    "df2 = df1[(df1['balance']<lower) | (df1['balance']>upper)]\n",
    "\n",
    "print(\"Number of Outliers Detected in balance using strategy A:\",df2.shape[0])\n",
    "\n",
    "#B) check quantile strategy\n",
    "max_val = df1['balance'].quantile(0.95)        # df.Age.quantile(0.95)\n",
    "min_val = df1['balance'].quantile(0.05)        # df.Age.quantile(0.05)\n",
    "\n",
    "df3 = df1[(df1['balance']<min_val) | (df1['balance']>max_val)]\n",
    "\n",
    "print(\"Number of Outliers Detected in balance using strategy B:\",df3.shape[0])"
   ]
  },
  {
   "cell_type": "markdown",
   "metadata": {},
   "source": [
    "- Since A gives smaller value go for IQR strategy. Now we replace the outliers with lower and upper values correspondingly"
   ]
  },
  {
   "cell_type": "code",
   "execution_count": 29,
   "metadata": {},
   "outputs": [],
   "source": [
    "for i,data in df1.iterrows():\n",
    "    if data['balance']<lower:\n",
    "        df1.at[i,'balance']=lower  # random no in proper range\n",
    "    elif data['balance']>upper:\n",
    "        df1.at[i,'balance']=upper  # random no in proper range"
   ]
  },
  {
   "cell_type": "code",
   "execution_count": 30,
   "metadata": {},
   "outputs": [
    {
     "name": "stdout",
     "output_type": "stream",
     "text": [
      "AxesSubplot(0.125,0.125;0.775x0.755)\n"
     ]
    },
    {
     "data": {
      "image/png": "[encoded data removed]",
      "text/plain": [
       "<Figure size 432x288 with 1 Axes>"
      ]
     },
     "metadata": {
      "needs_background": "light"
     },
     "output_type": "display_data"
    }
   ],
   "source": [
    "print(sns.boxplot(x=df1['balance']))"
   ]
  },
  {
   "cell_type": "markdown",
   "metadata": {},
   "source": [
    "## 'age' Analysis"
   ]
  },
  {
   "cell_type": "code",
   "execution_count": 31,
   "metadata": {},
   "outputs": [
    {
     "name": "stdout",
     "output_type": "stream",
     "text": [
      "AxesSubplot(0.125,0.125;0.775x0.755)\n"
     ]
    },
    {
     "data": {
      "image/png": "[encoded data removed]",
      "text/plain": [
       "<Figure size 432x288 with 1 Axes>"
      ]
     },
     "metadata": {
      "needs_background": "light"
     },
     "output_type": "display_data"
    }
   ],
   "source": [
    "print(sns.boxplot(x=df1['age']))"
   ]
  },
  {
   "cell_type": "markdown",
   "metadata": {},
   "source": [
    "- Removing outliers from 'age' column using IQR and Quantile Strategies"
   ]
  },
  {
   "cell_type": "code",
   "execution_count": 32,
   "metadata": {},
   "outputs": [
    {
     "name": "stdout",
     "output_type": "stream",
     "text": [
      "Number of Outliers Detected in age using strategy A: 181\n",
      "Number of Outliers Detected in age using strategy B: 768\n"
     ]
    }
   ],
   "source": [
    "#A) check IQR strategy\n",
    "Q1 = df1.age.quantile(0.25)\n",
    "Q3 = df1.age.quantile(0.75)\n",
    "\n",
    "IQR=Q3-Q1\n",
    "\n",
    "lower=Q1-1.5*IQR\n",
    "upper=Q3+1.5*IQR\n",
    "\n",
    "df2 = df1[(df1['age']<lower) | (df1['age']>upper)]\n",
    "\n",
    "print(\"Number of Outliers Detected in age using strategy A:\",df2.shape[0])\n",
    "\n",
    "#B) check quantile strategy\n",
    "max_val = df1['age'].quantile(0.95)        # df.Age.quantile(0.95)\n",
    "min_val = df1['age'].quantile(0.05)        # df.Age.quantile(0.05)\n",
    "\n",
    "df3 = df1[(df1['age']<min_val) | (df1['age']>max_val)]\n",
    "\n",
    "print(\"Number of Outliers Detected in age using strategy B:\",df3.shape[0])\n",
    "\n"
   ]
  },
  {
   "cell_type": "markdown",
   "metadata": {},
   "source": [
    "- Since A gives smaller value go for IQR strategy. Now we replace the outliers with lower and upper values correspondingly"
   ]
  },
  {
   "cell_type": "code",
   "execution_count": 33,
   "metadata": {},
   "outputs": [],
   "source": [
    "for i,data in df1.iterrows():\n",
    "    if data['age']<lower:\n",
    "        df1.at[i,'age']=lower  # random no in proper range\n",
    "    elif data['age']>upper:\n",
    "        df1.at[i,'age']=upper  # random no in proper range"
   ]
  },
  {
   "cell_type": "code",
   "execution_count": 34,
   "metadata": {},
   "outputs": [
    {
     "name": "stdout",
     "output_type": "stream",
     "text": [
      "AxesSubplot(0.125,0.125;0.775x0.755)\n"
     ]
    },
    {
     "data": {
      "image/png": "[encoded data removed]",
      "text/plain": [
       "<Figure size 432x288 with 1 Axes>"
      ]
     },
     "metadata": {
      "needs_background": "light"
     },
     "output_type": "display_data"
    }
   ],
   "source": [
    "print(sns.boxplot(x=df1['age']))"
   ]
  },
  {
   "cell_type": "markdown",
   "metadata": {},
   "source": [
    "## Exploring Categorical Features"
   ]
  },
  {
   "cell_type": "code",
   "execution_count": 35,
   "metadata": {},
   "outputs": [
    {
     "name": "stdout",
     "output_type": "stream",
     "text": [
      "The feature is job and number of categories are 12\n",
      "The feature is marital and number of categories are 3\n",
      "The feature is education and number of categories are 4\n",
      "The feature is targeted and number of categories are 2\n",
      "The feature is default and number of categories are 2\n",
      "The feature is housing and number of categories are 2\n",
      "The feature is loan and number of categories are 2\n",
      "The feature is contact and number of categories are 3\n",
      "The feature is month and number of categories are 12\n",
      "The feature is poutcome and number of categories are 3\n"
     ]
    }
   ],
   "source": [
    "categorical_features=[feature for feature in df1.columns if ((df1[feature].dtypes=='O'))]\n",
    "categorical_features\n",
    "for feature in categorical_features:\n",
    "    print('The feature is {} and number of categories are {}'.format(feature,len(df1[feature].unique())))"
   ]
  },
  {
   "cell_type": "code",
   "execution_count": 36,
   "metadata": {},
   "outputs": [
    {
     "data": {
      "image/png": "[encoded data removed]",
      "text/plain": [
       "<Figure size 1080x5040 with 10 Axes>"
      ]
     },
     "metadata": {},
     "output_type": "display_data"
    }
   ],
   "source": [
    "#check count based on categorical features\n",
    "plt.figure(figsize=(15,70), facecolor='white')\n",
    "plotnumber =1\n",
    "for categorical_feature in categorical_features:\n",
    "    ax = plt.subplot(12,3,plotnumber)\n",
    "    sns.countplot(y=categorical_feature,data=df1)\n",
    "    plt.xlabel(categorical_feature)\n",
    "    plt.title(categorical_feature)\n",
    "    plotnumber+=1\n",
    "plt.show()"
   ]
  },
  {
   "cell_type": "markdown",
   "metadata": {},
   "source": [
    "### Visualizing the distribution of 'age' and 'balance"
   ]
  },
  {
   "cell_type": "code",
   "execution_count": 37,
   "metadata": {},
   "outputs": [
    {
     "data": {
      "image/png": "[encoded data removed]",
      "text/plain": [
       "<Figure size 720x432 with 2 Axes>"
      ]
     },
     "metadata": {
      "needs_background": "light"
     },
     "output_type": "display_data"
    }
   ],
   "source": [
    "dist_age_balance = plt.figure(figsize = (10,6))\n",
    "\n",
    "ra1 = dist_age_balance.add_subplot(1,2,1) \n",
    "ra2 = dist_age_balance.add_subplot(1,2,2)\n",
    "\n",
    "ra1.hist(df1['age'])\n",
    "ra1.set_title('The Distribution of Age')\n",
    "\n",
    "ra2.hist(df['balance'], color = 'skyblue')\n",
    "ra2.set_title('The Distribution of Balance')\n",
    "\n",
    "plt.tight_layout() \n",
    "plt.show()"
   ]
  },
  {
   "cell_type": "markdown",
   "metadata": {},
   "source": [
    "- The distribution of customer age is fairly normal with a small standard deviation.\n",
    "- The distribution of balance has a huge standard deviation relative to the mean, suggesting large variabilities in customers' balance levels."
   ]
  },
  {
   "cell_type": "code",
   "execution_count": 38,
   "metadata": {},
   "outputs": [
    {
     "data": {
      "image/png": "[encoded data removed]",
      "text/plain": [
       "<Figure size 504x360 with 1 Axes>"
      ]
     },
     "metadata": {
      "needs_background": "light"
     },
     "output_type": "display_data"
    }
   ],
   "source": [
    "scatter_age_balance = df1.plot.scatter('age','balance',figsize = (7,5))\n",
    "\n",
    "plt.title('The Relationship between Age and Balance ')\n",
    "plt.show()"
   ]
  },
  {
   "cell_type": "markdown",
   "metadata": {},
   "source": [
    "- Over the age of 60, clients tend to have a significantly lower balance. This is due to the fact that most people retire after age 60 and no longer have a reliable income source."
   ]
  },
  {
   "cell_type": "markdown",
   "metadata": {},
   "source": [
    "## Visualize the subscription and contact rate by age"
   ]
  },
  {
   "cell_type": "code",
   "execution_count": 39,
   "metadata": {},
   "outputs": [
    {
     "data": {
      "image/png": "[encoded data removed]",
      "text/plain": [
       "<Figure size 576x432 with 1 Axes>"
      ]
     },
     "metadata": {
      "needs_background": "light"
     },
     "output_type": "display_data"
    }
   ],
   "source": [
    "lst = [df1]\n",
    "for column in lst:\n",
    "    column.loc[column[\"age\"] < 30,  'age_group'] = 20\n",
    "    column.loc[(column[\"age\"] >= 30) & (column[\"age\"] <= 39), 'age_group'] = 30\n",
    "    column.loc[(column[\"age\"] >= 40) & (column[\"age\"] <= 49), 'age_group'] = 40\n",
    "    column.loc[(column[\"age\"] >= 50) & (column[\"age\"] <= 59), 'age_group'] = 50\n",
    "    column.loc[column[\"age\"] >= 60, 'age_group'] = 60\n",
    "\n",
    "count_age_response_pct = pd.crosstab(df1['response'],df1['age_group']).apply(lambda x: x/x.sum() * 100)\n",
    "count_age_response_pct = count_age_response_pct.transpose() \n",
    "\n",
    "age = pd.DataFrame(df1['age_group'].value_counts())\n",
    "age['% Contacted'] = age['age_group']*100/age['age_group'].sum()\n",
    "age['% Subscription'] = count_age_response_pct[1]\n",
    "age.drop('age_group',axis = 1,inplace = True)\n",
    "\n",
    "age['age'] = [30,40,50,20,60]\n",
    "age = age.sort_values('age',ascending = True)\n",
    "\n",
    "plot_age = age[['% Subscription','% Contacted']].plot(kind = 'bar',figsize=(8,6), color = ('green','red'))\n",
    "plt.xlabel('Age Group')\n",
    "plt.ylabel('Subscription Rate')\n",
    "plt.xticks(np.arange(5), ('<30', '30-39', '40-49', '50-59', '60+'),rotation = 'horizontal')\n",
    "plt.title('Subscription vs. Contact Rate by Age')\n",
    "plt.show()"
   ]
  },
  {
   "cell_type": "markdown",
   "metadata": {},
   "source": [
    "- Green vertical bars indicate that clients with a age of 60+ have the highest subscription rate. More than 50% of the subscriptions are contributed by the youngest and the eldest clients."
   ]
  },
  {
   "cell_type": "code",
   "execution_count": 40,
   "metadata": {},
   "outputs": [
    {
     "data": {
      "image/png": "[encoded data removed]",
      "text/plain": [
       "<Figure size 864x432 with 1 Axes>"
      ]
     },
     "metadata": {
      "needs_background": "light"
     },
     "output_type": "display_data"
    }
   ],
   "source": [
    "count_job_response_pct = pd.crosstab(df1['response'],df1['job']).apply(lambda x: x/x.sum() * 100)\n",
    "count_job_response_pct = count_job_response_pct.transpose()\n",
    "plot_job = count_job_response_pct[1].sort_values(ascending = True).plot(kind ='barh',\n",
    "                                                                           figsize = (12,6))\n",
    "                                                                               \n",
    "plt.title('Subscription Rate by Job')\n",
    "plt.xlabel('Subscription Rate')\n",
    "plt.ylabel('Job Category')\n",
    "\n",
    "# Label each bar\n",
    "for rec, label in zip(plot_job.patches,\n",
    "                      count_job_response_pct[1].sort_values(ascending = True).round(1).astype(str)):\n",
    "    plot_job.text(rec.get_width()+0.8, \n",
    "                  rec.get_y()+ rec.get_height()-0.5, \n",
    "                  label+'%', \n",
    "                  ha = 'center', \n",
    "                  va='bottom')"
   ]
  },
  {
   "cell_type": "markdown",
   "metadata": {},
   "source": [
    "- As noted from the horizontal bar chart,retired and students account for more than 50% of subscription, which is consistent with the previous finding of higher subscription rates among the younger and older."
   ]
  },
  {
   "cell_type": "code",
   "execution_count": 41,
   "metadata": {},
   "outputs": [
    {
     "data": {
      "text/plain": [
       "<seaborn.axisgrid.FacetGrid at 0x2008bce05e0>"
      ]
     },
     "execution_count": 41,
     "metadata": {},
     "output_type": "execute_result"
    },
    {
     "data": {
      "image/png": "[encoded data removed]",
      "text/plain": [
       "<Figure size 434.25x360 with 1 Axes>"
      ]
     },
     "metadata": {
      "needs_background": "light"
     },
     "output_type": "display_data"
    }
   ],
   "source": [
    "sns.FacetGrid(df1,hue='salary',size=5).map(sns.distplot,\"age\").add_legend()"
   ]
  },
  {
   "cell_type": "markdown",
   "metadata": {},
   "source": [
    "- High salary is concentrated in age groip 30-50 which is the workig age group.\n",
    "- Moderate salary is observed  in age group 55-70 which is the retired age group.\n",
    "- Low salary is observed in the age group 15-25 which is the age-group of students."
   ]
  },
  {
   "cell_type": "code",
   "execution_count": 42,
   "metadata": {},
   "outputs": [
    {
     "data": {
      "text/plain": [
       "<seaborn.axisgrid.FacetGrid at 0x2008b7703d0>"
      ]
     },
     "execution_count": 42,
     "metadata": {},
     "output_type": "execute_result"
    },
    {
     "data": {
      "image/png": "[encoded data removed]",
      "text/plain": [
       "<Figure size 413.25x360 with 1 Axes>"
      ]
     },
     "metadata": {
      "needs_background": "light"
     },
     "output_type": "display_data"
    }
   ],
   "source": [
    "sns.FacetGrid(df1,palette='rocket',hue='response',size=5).map(sns.distplot,\"age\").add_legend()"
   ]
  },
  {
   "cell_type": "markdown",
   "metadata": {},
   "source": [
    "- Here we can see that most people from age group 25-45 responded positively to the Marketing campaign"
   ]
  },
  {
   "cell_type": "markdown",
   "metadata": {},
   "source": [
    "## Encoding "
   ]
  },
  {
   "cell_type": "code",
   "execution_count": 43,
   "metadata": {},
   "outputs": [],
   "source": [
    "#using one-hot-encoding on categorical variables\n",
    "df1[\"job\"]=df1[\"job\"].astype('category')\n",
    "df1[\"job_encode\"]=df1[\"job\"].cat.codes\n",
    "\n",
    "df1[\"marital\"]=df1[\"marital\"].astype('category')\n",
    "df1[\"marital_encode\"]=df1[\"marital\"].cat.codes\n",
    "\n",
    "df1[\"education\"]=df1[\"education\"].astype('category')\n",
    "df1[\"education_encode\"]=df1[\"education\"].cat.codes\n",
    "\n",
    "df1[\"targeted\"]=df1[\"targeted\"].astype('category')\n",
    "df1[\"targeted_encode\"]=df1[\"targeted\"].cat.codes\n",
    "\n",
    "df1[\"default\"]=df1[\"default\"].astype('category')\n",
    "df1[\"default_encode\"]=df1[\"default\"].cat.codes\n",
    "\n",
    "df1[\"housing\"]=df1[\"housing\"].astype('category')\n",
    "df1[\"housing_encode\"]=df1[\"housing\"].cat.codes\n",
    "\n",
    "df1[\"loan\"]=df1[\"loan\"].astype('category')\n",
    "df1[\"loan_encode\"]=df1[\"loan\"].cat.codes\n",
    "\n",
    "df1[\"contact\"]=df1[\"contact\"].astype('category')\n",
    "df1[\"contact_encode\"]=df1[\"contact\"].cat.codes\n",
    "\n",
    "df1[\"month\"]=df1[\"month\"].astype('category')\n",
    "df1[\"month_encode\"]=df1[\"month\"].cat.codes\n",
    "\n",
    "df1[\"poutcome\"]=df1[\"poutcome\"].astype('category')\n",
    "df1[\"poutcome_encode\"]=df1[\"poutcome\"].cat.codes"
   ]
  },
  {
   "cell_type": "code",
   "execution_count": 44,
   "metadata": {},
   "outputs": [
    {
     "data": {
      "text/plain": [
       "Index(['age', 'job', 'salary', 'marital', 'education', 'targeted', 'default',\n",
       "       'balance', 'housing', 'loan', 'contact', 'day', 'month', 'duration',\n",
       "       'campaign', 'pdays', 'previous', 'poutcome', 'response', 'age_group',\n",
       "       'job_encode', 'marital_encode', 'education_encode', 'targeted_encode',\n",
       "       'default_encode', 'housing_encode', 'loan_encode', 'contact_encode',\n",
       "       'month_encode', 'poutcome_encode'],\n",
       "      dtype='object')"
      ]
     },
     "execution_count": 44,
     "metadata": {},
     "output_type": "execute_result"
    }
   ],
   "source": [
    "df1.columns"
   ]
  },
  {
   "cell_type": "code",
   "execution_count": 45,
   "metadata": {},
   "outputs": [
    {
     "data": {
      "text/plain": [
       "(8257, 30)"
      ]
     },
     "execution_count": 45,
     "metadata": {},
     "output_type": "execute_result"
    }
   ],
   "source": [
    "df1.shape"
   ]
  },
  {
   "cell_type": "code",
   "execution_count": 46,
   "metadata": {},
   "outputs": [
    {
     "data": {
      "text/html": [
       "<div>\n",
       "<style scoped>\n",
       "    .dataframe tbody tr th:only-of-type {\n",
       "        vertical-align: middle;\n",
       "    }\n",
       "\n",
       "    .dataframe tbody tr th {\n",
       "        vertical-align: top;\n",
       "    }\n",
       "\n",
       "    .dataframe thead th {\n",
       "        text-align: right;\n",
       "    }\n",
       "</style>\n",
       "<table border=\"1\" class=\"dataframe\">\n",
       "  <thead>\n",
       "    <tr style=\"text-align: right;\">\n",
       "      <th></th>\n",
       "      <th>age</th>\n",
       "      <th>job</th>\n",
       "      <th>salary</th>\n",
       "      <th>marital</th>\n",
       "      <th>education</th>\n",
       "      <th>targeted</th>\n",
       "      <th>default</th>\n",
       "      <th>balance</th>\n",
       "      <th>housing</th>\n",
       "      <th>loan</th>\n",
       "      <th>...</th>\n",
       "      <th>job_encode</th>\n",
       "      <th>marital_encode</th>\n",
       "      <th>education_encode</th>\n",
       "      <th>targeted_encode</th>\n",
       "      <th>default_encode</th>\n",
       "      <th>housing_encode</th>\n",
       "      <th>loan_encode</th>\n",
       "      <th>contact_encode</th>\n",
       "      <th>month_encode</th>\n",
       "      <th>poutcome_encode</th>\n",
       "    </tr>\n",
       "  </thead>\n",
       "  <tbody>\n",
       "    <tr>\n",
       "      <th>24060</th>\n",
       "      <td>33</td>\n",
       "      <td>admin.</td>\n",
       "      <td>50000</td>\n",
       "      <td>married</td>\n",
       "      <td>tertiary</td>\n",
       "      <td>yes</td>\n",
       "      <td>no</td>\n",
       "      <td>882</td>\n",
       "      <td>no</td>\n",
       "      <td>no</td>\n",
       "      <td>...</td>\n",
       "      <td>0</td>\n",
       "      <td>1</td>\n",
       "      <td>3</td>\n",
       "      <td>1</td>\n",
       "      <td>0</td>\n",
       "      <td>0</td>\n",
       "      <td>0</td>\n",
       "      <td>1</td>\n",
       "      <td>10</td>\n",
       "      <td>0</td>\n",
       "    </tr>\n",
       "    <tr>\n",
       "      <th>24062</th>\n",
       "      <td>42</td>\n",
       "      <td>admin.</td>\n",
       "      <td>50000</td>\n",
       "      <td>single</td>\n",
       "      <td>secondary</td>\n",
       "      <td>yes</td>\n",
       "      <td>no</td>\n",
       "      <td>-247</td>\n",
       "      <td>yes</td>\n",
       "      <td>yes</td>\n",
       "      <td>...</td>\n",
       "      <td>0</td>\n",
       "      <td>2</td>\n",
       "      <td>2</td>\n",
       "      <td>1</td>\n",
       "      <td>0</td>\n",
       "      <td>1</td>\n",
       "      <td>1</td>\n",
       "      <td>1</td>\n",
       "      <td>10</td>\n",
       "      <td>1</td>\n",
       "    </tr>\n",
       "    <tr>\n",
       "      <th>24064</th>\n",
       "      <td>33</td>\n",
       "      <td>services</td>\n",
       "      <td>70000</td>\n",
       "      <td>married</td>\n",
       "      <td>secondary</td>\n",
       "      <td>yes</td>\n",
       "      <td>no</td>\n",
       "      <td>3444</td>\n",
       "      <td>yes</td>\n",
       "      <td>no</td>\n",
       "      <td>...</td>\n",
       "      <td>8</td>\n",
       "      <td>1</td>\n",
       "      <td>2</td>\n",
       "      <td>1</td>\n",
       "      <td>0</td>\n",
       "      <td>1</td>\n",
       "      <td>0</td>\n",
       "      <td>1</td>\n",
       "      <td>10</td>\n",
       "      <td>0</td>\n",
       "    </tr>\n",
       "    <tr>\n",
       "      <th>24072</th>\n",
       "      <td>36</td>\n",
       "      <td>management</td>\n",
       "      <td>100000</td>\n",
       "      <td>married</td>\n",
       "      <td>tertiary</td>\n",
       "      <td>yes</td>\n",
       "      <td>no</td>\n",
       "      <td>2415</td>\n",
       "      <td>yes</td>\n",
       "      <td>no</td>\n",
       "      <td>...</td>\n",
       "      <td>4</td>\n",
       "      <td>1</td>\n",
       "      <td>3</td>\n",
       "      <td>1</td>\n",
       "      <td>0</td>\n",
       "      <td>1</td>\n",
       "      <td>0</td>\n",
       "      <td>1</td>\n",
       "      <td>10</td>\n",
       "      <td>1</td>\n",
       "    </tr>\n",
       "    <tr>\n",
       "      <th>24077</th>\n",
       "      <td>36</td>\n",
       "      <td>management</td>\n",
       "      <td>100000</td>\n",
       "      <td>married</td>\n",
       "      <td>tertiary</td>\n",
       "      <td>yes</td>\n",
       "      <td>no</td>\n",
       "      <td>0</td>\n",
       "      <td>yes</td>\n",
       "      <td>no</td>\n",
       "      <td>...</td>\n",
       "      <td>4</td>\n",
       "      <td>1</td>\n",
       "      <td>3</td>\n",
       "      <td>1</td>\n",
       "      <td>0</td>\n",
       "      <td>1</td>\n",
       "      <td>0</td>\n",
       "      <td>1</td>\n",
       "      <td>10</td>\n",
       "      <td>0</td>\n",
       "    </tr>\n",
       "    <tr>\n",
       "      <th>24080</th>\n",
       "      <td>56</td>\n",
       "      <td>technician</td>\n",
       "      <td>60000</td>\n",
       "      <td>married</td>\n",
       "      <td>secondary</td>\n",
       "      <td>yes</td>\n",
       "      <td>no</td>\n",
       "      <td>589</td>\n",
       "      <td>yes</td>\n",
       "      <td>no</td>\n",
       "      <td>...</td>\n",
       "      <td>10</td>\n",
       "      <td>1</td>\n",
       "      <td>2</td>\n",
       "      <td>1</td>\n",
       "      <td>0</td>\n",
       "      <td>1</td>\n",
       "      <td>0</td>\n",
       "      <td>2</td>\n",
       "      <td>10</td>\n",
       "      <td>2</td>\n",
       "    </tr>\n",
       "    <tr>\n",
       "      <th>24086</th>\n",
       "      <td>44</td>\n",
       "      <td>blue-collar</td>\n",
       "      <td>20000</td>\n",
       "      <td>married</td>\n",
       "      <td>secondary</td>\n",
       "      <td>yes</td>\n",
       "      <td>no</td>\n",
       "      <td>1324</td>\n",
       "      <td>yes</td>\n",
       "      <td>no</td>\n",
       "      <td>...</td>\n",
       "      <td>1</td>\n",
       "      <td>1</td>\n",
       "      <td>2</td>\n",
       "      <td>1</td>\n",
       "      <td>0</td>\n",
       "      <td>1</td>\n",
       "      <td>0</td>\n",
       "      <td>1</td>\n",
       "      <td>10</td>\n",
       "      <td>1</td>\n",
       "    </tr>\n",
       "    <tr>\n",
       "      <th>24122</th>\n",
       "      <td>26</td>\n",
       "      <td>technician</td>\n",
       "      <td>60000</td>\n",
       "      <td>single</td>\n",
       "      <td>tertiary</td>\n",
       "      <td>no</td>\n",
       "      <td>no</td>\n",
       "      <td>172</td>\n",
       "      <td>no</td>\n",
       "      <td>yes</td>\n",
       "      <td>...</td>\n",
       "      <td>10</td>\n",
       "      <td>2</td>\n",
       "      <td>3</td>\n",
       "      <td>0</td>\n",
       "      <td>0</td>\n",
       "      <td>0</td>\n",
       "      <td>1</td>\n",
       "      <td>1</td>\n",
       "      <td>9</td>\n",
       "      <td>1</td>\n",
       "    </tr>\n",
       "    <tr>\n",
       "      <th>24127</th>\n",
       "      <td>51</td>\n",
       "      <td>admin.</td>\n",
       "      <td>50000</td>\n",
       "      <td>single</td>\n",
       "      <td>secondary</td>\n",
       "      <td>yes</td>\n",
       "      <td>no</td>\n",
       "      <td>3132</td>\n",
       "      <td>no</td>\n",
       "      <td>no</td>\n",
       "      <td>...</td>\n",
       "      <td>0</td>\n",
       "      <td>2</td>\n",
       "      <td>2</td>\n",
       "      <td>1</td>\n",
       "      <td>0</td>\n",
       "      <td>0</td>\n",
       "      <td>0</td>\n",
       "      <td>1</td>\n",
       "      <td>9</td>\n",
       "      <td>0</td>\n",
       "    </tr>\n",
       "    <tr>\n",
       "      <th>24136</th>\n",
       "      <td>34</td>\n",
       "      <td>management</td>\n",
       "      <td>100000</td>\n",
       "      <td>married</td>\n",
       "      <td>tertiary</td>\n",
       "      <td>yes</td>\n",
       "      <td>no</td>\n",
       "      <td>1770</td>\n",
       "      <td>yes</td>\n",
       "      <td>no</td>\n",
       "      <td>...</td>\n",
       "      <td>4</td>\n",
       "      <td>1</td>\n",
       "      <td>3</td>\n",
       "      <td>1</td>\n",
       "      <td>0</td>\n",
       "      <td>1</td>\n",
       "      <td>0</td>\n",
       "      <td>2</td>\n",
       "      <td>9</td>\n",
       "      <td>1</td>\n",
       "    </tr>\n",
       "  </tbody>\n",
       "</table>\n",
       "<p>10 rows × 30 columns</p>\n",
       "</div>"
      ],
      "text/plain": [
       "       age          job  salary  marital  education targeted default  balance  \\\n",
       "24060   33       admin.   50000  married   tertiary      yes      no      882   \n",
       "24062   42       admin.   50000   single  secondary      yes      no     -247   \n",
       "24064   33     services   70000  married  secondary      yes      no     3444   \n",
       "24072   36   management  100000  married   tertiary      yes      no     2415   \n",
       "24077   36   management  100000  married   tertiary      yes      no        0   \n",
       "24080   56   technician   60000  married  secondary      yes      no      589   \n",
       "24086   44  blue-collar   20000  married  secondary      yes      no     1324   \n",
       "24122   26   technician   60000   single   tertiary       no      no      172   \n",
       "24127   51       admin.   50000   single  secondary      yes      no     3132   \n",
       "24136   34   management  100000  married   tertiary      yes      no     1770   \n",
       "\n",
       "      housing loan  ... job_encode  marital_encode education_encode  \\\n",
       "24060      no   no  ...          0               1                3   \n",
       "24062     yes  yes  ...          0               2                2   \n",
       "24064     yes   no  ...          8               1                2   \n",
       "24072     yes   no  ...          4               1                3   \n",
       "24077     yes   no  ...          4               1                3   \n",
       "24080     yes   no  ...         10               1                2   \n",
       "24086     yes   no  ...          1               1                2   \n",
       "24122      no  yes  ...         10               2                3   \n",
       "24127      no   no  ...          0               2                2   \n",
       "24136     yes   no  ...          4               1                3   \n",
       "\n",
       "       targeted_encode  default_encode  housing_encode  loan_encode  \\\n",
       "24060                1               0               0            0   \n",
       "24062                1               0               1            1   \n",
       "24064                1               0               1            0   \n",
       "24072                1               0               1            0   \n",
       "24077                1               0               1            0   \n",
       "24080                1               0               1            0   \n",
       "24086                1               0               1            0   \n",
       "24122                0               0               0            1   \n",
       "24127                1               0               0            0   \n",
       "24136                1               0               1            0   \n",
       "\n",
       "      contact_encode  month_encode  poutcome_encode  \n",
       "24060              1            10                0  \n",
       "24062              1            10                1  \n",
       "24064              1            10                0  \n",
       "24072              1            10                1  \n",
       "24077              1            10                0  \n",
       "24080              2            10                2  \n",
       "24086              1            10                1  \n",
       "24122              1             9                1  \n",
       "24127              1             9                0  \n",
       "24136              2             9                1  \n",
       "\n",
       "[10 rows x 30 columns]"
      ]
     },
     "execution_count": 46,
     "metadata": {},
     "output_type": "execute_result"
    }
   ],
   "source": [
    "df1.head(10)"
   ]
  },
  {
   "cell_type": "code",
   "execution_count": 47,
   "metadata": {},
   "outputs": [],
   "source": [
    "#dropping all the extra variables and keeping only neccessary ones\n",
    "drop_elements=['job', 'marital', 'education', 'targeted', 'default','housing', 'loan', 'contact', 'month', 'poutcome','age_group']\n",
    "df1clean=df1.drop(drop_elements,axis=1)"
   ]
  },
  {
   "cell_type": "code",
   "execution_count": 48,
   "metadata": {},
   "outputs": [
    {
     "data": {
      "text/html": [
       "<div>\n",
       "<style scoped>\n",
       "    .dataframe tbody tr th:only-of-type {\n",
       "        vertical-align: middle;\n",
       "    }\n",
       "\n",
       "    .dataframe tbody tr th {\n",
       "        vertical-align: top;\n",
       "    }\n",
       "\n",
       "    .dataframe thead th {\n",
       "        text-align: right;\n",
       "    }\n",
       "</style>\n",
       "<table border=\"1\" class=\"dataframe\">\n",
       "  <thead>\n",
       "    <tr style=\"text-align: right;\">\n",
       "      <th></th>\n",
       "      <th>age</th>\n",
       "      <th>salary</th>\n",
       "      <th>balance</th>\n",
       "      <th>day</th>\n",
       "      <th>duration</th>\n",
       "      <th>campaign</th>\n",
       "      <th>pdays</th>\n",
       "      <th>previous</th>\n",
       "      <th>response</th>\n",
       "      <th>job_encode</th>\n",
       "      <th>marital_encode</th>\n",
       "      <th>education_encode</th>\n",
       "      <th>targeted_encode</th>\n",
       "      <th>default_encode</th>\n",
       "      <th>housing_encode</th>\n",
       "      <th>loan_encode</th>\n",
       "      <th>contact_encode</th>\n",
       "      <th>month_encode</th>\n",
       "      <th>poutcome_encode</th>\n",
       "    </tr>\n",
       "  </thead>\n",
       "  <tbody>\n",
       "    <tr>\n",
       "      <th>24060</th>\n",
       "      <td>33</td>\n",
       "      <td>50000</td>\n",
       "      <td>882</td>\n",
       "      <td>21</td>\n",
       "      <td>39</td>\n",
       "      <td>1</td>\n",
       "      <td>151</td>\n",
       "      <td>3</td>\n",
       "      <td>0</td>\n",
       "      <td>0</td>\n",
       "      <td>1</td>\n",
       "      <td>3</td>\n",
       "      <td>1</td>\n",
       "      <td>0</td>\n",
       "      <td>0</td>\n",
       "      <td>0</td>\n",
       "      <td>1</td>\n",
       "      <td>10</td>\n",
       "      <td>0</td>\n",
       "    </tr>\n",
       "    <tr>\n",
       "      <th>24062</th>\n",
       "      <td>42</td>\n",
       "      <td>50000</td>\n",
       "      <td>-247</td>\n",
       "      <td>21</td>\n",
       "      <td>519</td>\n",
       "      <td>1</td>\n",
       "      <td>166</td>\n",
       "      <td>1</td>\n",
       "      <td>1</td>\n",
       "      <td>0</td>\n",
       "      <td>2</td>\n",
       "      <td>2</td>\n",
       "      <td>1</td>\n",
       "      <td>0</td>\n",
       "      <td>1</td>\n",
       "      <td>1</td>\n",
       "      <td>1</td>\n",
       "      <td>10</td>\n",
       "      <td>1</td>\n",
       "    </tr>\n",
       "    <tr>\n",
       "      <th>24064</th>\n",
       "      <td>33</td>\n",
       "      <td>70000</td>\n",
       "      <td>3444</td>\n",
       "      <td>21</td>\n",
       "      <td>144</td>\n",
       "      <td>1</td>\n",
       "      <td>91</td>\n",
       "      <td>4</td>\n",
       "      <td>1</td>\n",
       "      <td>8</td>\n",
       "      <td>1</td>\n",
       "      <td>2</td>\n",
       "      <td>1</td>\n",
       "      <td>0</td>\n",
       "      <td>1</td>\n",
       "      <td>0</td>\n",
       "      <td>1</td>\n",
       "      <td>10</td>\n",
       "      <td>0</td>\n",
       "    </tr>\n",
       "    <tr>\n",
       "      <th>24072</th>\n",
       "      <td>36</td>\n",
       "      <td>100000</td>\n",
       "      <td>2415</td>\n",
       "      <td>22</td>\n",
       "      <td>73</td>\n",
       "      <td>1</td>\n",
       "      <td>86</td>\n",
       "      <td>4</td>\n",
       "      <td>0</td>\n",
       "      <td>4</td>\n",
       "      <td>1</td>\n",
       "      <td>3</td>\n",
       "      <td>1</td>\n",
       "      <td>0</td>\n",
       "      <td>1</td>\n",
       "      <td>0</td>\n",
       "      <td>1</td>\n",
       "      <td>10</td>\n",
       "      <td>1</td>\n",
       "    </tr>\n",
       "    <tr>\n",
       "      <th>24077</th>\n",
       "      <td>36</td>\n",
       "      <td>100000</td>\n",
       "      <td>0</td>\n",
       "      <td>23</td>\n",
       "      <td>140</td>\n",
       "      <td>1</td>\n",
       "      <td>143</td>\n",
       "      <td>3</td>\n",
       "      <td>1</td>\n",
       "      <td>4</td>\n",
       "      <td>1</td>\n",
       "      <td>3</td>\n",
       "      <td>1</td>\n",
       "      <td>0</td>\n",
       "      <td>1</td>\n",
       "      <td>0</td>\n",
       "      <td>1</td>\n",
       "      <td>10</td>\n",
       "      <td>0</td>\n",
       "    </tr>\n",
       "    <tr>\n",
       "      <th>24080</th>\n",
       "      <td>56</td>\n",
       "      <td>60000</td>\n",
       "      <td>589</td>\n",
       "      <td>23</td>\n",
       "      <td>518</td>\n",
       "      <td>1</td>\n",
       "      <td>147</td>\n",
       "      <td>2</td>\n",
       "      <td>1</td>\n",
       "      <td>10</td>\n",
       "      <td>1</td>\n",
       "      <td>2</td>\n",
       "      <td>1</td>\n",
       "      <td>0</td>\n",
       "      <td>1</td>\n",
       "      <td>0</td>\n",
       "      <td>2</td>\n",
       "      <td>10</td>\n",
       "      <td>2</td>\n",
       "    </tr>\n",
       "    <tr>\n",
       "      <th>24086</th>\n",
       "      <td>44</td>\n",
       "      <td>20000</td>\n",
       "      <td>1324</td>\n",
       "      <td>25</td>\n",
       "      <td>119</td>\n",
       "      <td>1</td>\n",
       "      <td>89</td>\n",
       "      <td>2</td>\n",
       "      <td>0</td>\n",
       "      <td>1</td>\n",
       "      <td>1</td>\n",
       "      <td>2</td>\n",
       "      <td>1</td>\n",
       "      <td>0</td>\n",
       "      <td>1</td>\n",
       "      <td>0</td>\n",
       "      <td>1</td>\n",
       "      <td>10</td>\n",
       "      <td>1</td>\n",
       "    </tr>\n",
       "    <tr>\n",
       "      <th>24122</th>\n",
       "      <td>26</td>\n",
       "      <td>60000</td>\n",
       "      <td>172</td>\n",
       "      <td>4</td>\n",
       "      <td>21</td>\n",
       "      <td>1</td>\n",
       "      <td>140</td>\n",
       "      <td>4</td>\n",
       "      <td>0</td>\n",
       "      <td>10</td>\n",
       "      <td>2</td>\n",
       "      <td>3</td>\n",
       "      <td>0</td>\n",
       "      <td>0</td>\n",
       "      <td>0</td>\n",
       "      <td>1</td>\n",
       "      <td>1</td>\n",
       "      <td>9</td>\n",
       "      <td>1</td>\n",
       "    </tr>\n",
       "    <tr>\n",
       "      <th>24127</th>\n",
       "      <td>51</td>\n",
       "      <td>50000</td>\n",
       "      <td>3132</td>\n",
       "      <td>5</td>\n",
       "      <td>449</td>\n",
       "      <td>1</td>\n",
       "      <td>176</td>\n",
       "      <td>1</td>\n",
       "      <td>0</td>\n",
       "      <td>0</td>\n",
       "      <td>2</td>\n",
       "      <td>2</td>\n",
       "      <td>1</td>\n",
       "      <td>0</td>\n",
       "      <td>0</td>\n",
       "      <td>0</td>\n",
       "      <td>1</td>\n",
       "      <td>9</td>\n",
       "      <td>0</td>\n",
       "    </tr>\n",
       "    <tr>\n",
       "      <th>24136</th>\n",
       "      <td>34</td>\n",
       "      <td>100000</td>\n",
       "      <td>1770</td>\n",
       "      <td>6</td>\n",
       "      <td>26</td>\n",
       "      <td>1</td>\n",
       "      <td>101</td>\n",
       "      <td>11</td>\n",
       "      <td>0</td>\n",
       "      <td>4</td>\n",
       "      <td>1</td>\n",
       "      <td>3</td>\n",
       "      <td>1</td>\n",
       "      <td>0</td>\n",
       "      <td>1</td>\n",
       "      <td>0</td>\n",
       "      <td>2</td>\n",
       "      <td>9</td>\n",
       "      <td>1</td>\n",
       "    </tr>\n",
       "  </tbody>\n",
       "</table>\n",
       "</div>"
      ],
      "text/plain": [
       "       age  salary  balance  day  duration  campaign  pdays  previous  \\\n",
       "24060   33   50000      882   21        39         1    151         3   \n",
       "24062   42   50000     -247   21       519         1    166         1   \n",
       "24064   33   70000     3444   21       144         1     91         4   \n",
       "24072   36  100000     2415   22        73         1     86         4   \n",
       "24077   36  100000        0   23       140         1    143         3   \n",
       "24080   56   60000      589   23       518         1    147         2   \n",
       "24086   44   20000     1324   25       119         1     89         2   \n",
       "24122   26   60000      172    4        21         1    140         4   \n",
       "24127   51   50000     3132    5       449         1    176         1   \n",
       "24136   34  100000     1770    6        26         1    101        11   \n",
       "\n",
       "       response  job_encode  marital_encode  education_encode  \\\n",
       "24060         0           0               1                 3   \n",
       "24062         1           0               2                 2   \n",
       "24064         1           8               1                 2   \n",
       "24072         0           4               1                 3   \n",
       "24077         1           4               1                 3   \n",
       "24080         1          10               1                 2   \n",
       "24086         0           1               1                 2   \n",
       "24122         0          10               2                 3   \n",
       "24127         0           0               2                 2   \n",
       "24136         0           4               1                 3   \n",
       "\n",
       "       targeted_encode  default_encode  housing_encode  loan_encode  \\\n",
       "24060                1               0               0            0   \n",
       "24062                1               0               1            1   \n",
       "24064                1               0               1            0   \n",
       "24072                1               0               1            0   \n",
       "24077                1               0               1            0   \n",
       "24080                1               0               1            0   \n",
       "24086                1               0               1            0   \n",
       "24122                0               0               0            1   \n",
       "24127                1               0               0            0   \n",
       "24136                1               0               1            0   \n",
       "\n",
       "       contact_encode  month_encode  poutcome_encode  \n",
       "24060               1            10                0  \n",
       "24062               1            10                1  \n",
       "24064               1            10                0  \n",
       "24072               1            10                1  \n",
       "24077               1            10                0  \n",
       "24080               2            10                2  \n",
       "24086               1            10                1  \n",
       "24122               1             9                1  \n",
       "24127               1             9                0  \n",
       "24136               2             9                1  "
      ]
     },
     "execution_count": 48,
     "metadata": {},
     "output_type": "execute_result"
    }
   ],
   "source": [
    "df1clean.head(10)"
   ]
  },
  {
   "cell_type": "code",
   "execution_count": 49,
   "metadata": {},
   "outputs": [
    {
     "data": {
      "text/plain": [
       "(8257, 19)"
      ]
     },
     "execution_count": 49,
     "metadata": {},
     "output_type": "execute_result"
    }
   ],
   "source": [
    "df1clean.shape"
   ]
  },
  {
   "cell_type": "code",
   "execution_count": 50,
   "metadata": {},
   "outputs": [
    {
     "data": {
      "text/plain": [
       "488"
      ]
     },
     "execution_count": 50,
     "metadata": {},
     "output_type": "execute_result"
    }
   ],
   "source": [
    "#checking for negative values in cleaded dataframe\n",
    "sum(n<0 for n in df1clean.values.flatten())"
   ]
  },
  {
   "cell_type": "code",
   "execution_count": 51,
   "metadata": {},
   "outputs": [],
   "source": [
    "#replacing the negative values with 0\n",
    "df1clean[df1clean<0]=0"
   ]
  },
  {
   "cell_type": "code",
   "execution_count": 52,
   "metadata": {},
   "outputs": [],
   "source": [
    "#saving cleaned data in csv format to df1clean dataset\n",
    "df1clean.to_csv(\"D:\\\\SEM II\\\\Machine Learning\\\\MLProj\\\\archive (9)\\\\df1clean.csv\")"
   ]
  },
  {
   "cell_type": "code",
   "execution_count": 53,
   "metadata": {},
   "outputs": [
    {
     "data": {
      "text/html": [
       "<div>\n",
       "<style scoped>\n",
       "    .dataframe tbody tr th:only-of-type {\n",
       "        vertical-align: middle;\n",
       "    }\n",
       "\n",
       "    .dataframe tbody tr th {\n",
       "        vertical-align: top;\n",
       "    }\n",
       "\n",
       "    .dataframe thead th {\n",
       "        text-align: right;\n",
       "    }\n",
       "</style>\n",
       "<table border=\"1\" class=\"dataframe\">\n",
       "  <thead>\n",
       "    <tr style=\"text-align: right;\">\n",
       "      <th></th>\n",
       "      <th>age</th>\n",
       "      <th>salary</th>\n",
       "      <th>balance</th>\n",
       "      <th>day</th>\n",
       "      <th>duration</th>\n",
       "      <th>campaign</th>\n",
       "      <th>pdays</th>\n",
       "      <th>previous</th>\n",
       "      <th>response</th>\n",
       "      <th>job_encode</th>\n",
       "      <th>marital_encode</th>\n",
       "      <th>education_encode</th>\n",
       "      <th>targeted_encode</th>\n",
       "      <th>default_encode</th>\n",
       "      <th>housing_encode</th>\n",
       "      <th>loan_encode</th>\n",
       "      <th>contact_encode</th>\n",
       "      <th>month_encode</th>\n",
       "      <th>poutcome_encode</th>\n",
       "    </tr>\n",
       "  </thead>\n",
       "  <tbody>\n",
       "    <tr>\n",
       "      <th>0</th>\n",
       "      <td>33</td>\n",
       "      <td>50000</td>\n",
       "      <td>882</td>\n",
       "      <td>21</td>\n",
       "      <td>39</td>\n",
       "      <td>1</td>\n",
       "      <td>151</td>\n",
       "      <td>3</td>\n",
       "      <td>0</td>\n",
       "      <td>0</td>\n",
       "      <td>1</td>\n",
       "      <td>3</td>\n",
       "      <td>1</td>\n",
       "      <td>0</td>\n",
       "      <td>0</td>\n",
       "      <td>0</td>\n",
       "      <td>1</td>\n",
       "      <td>10</td>\n",
       "      <td>0</td>\n",
       "    </tr>\n",
       "    <tr>\n",
       "      <th>1</th>\n",
       "      <td>42</td>\n",
       "      <td>50000</td>\n",
       "      <td>0</td>\n",
       "      <td>21</td>\n",
       "      <td>519</td>\n",
       "      <td>1</td>\n",
       "      <td>166</td>\n",
       "      <td>1</td>\n",
       "      <td>1</td>\n",
       "      <td>0</td>\n",
       "      <td>2</td>\n",
       "      <td>2</td>\n",
       "      <td>1</td>\n",
       "      <td>0</td>\n",
       "      <td>1</td>\n",
       "      <td>1</td>\n",
       "      <td>1</td>\n",
       "      <td>10</td>\n",
       "      <td>1</td>\n",
       "    </tr>\n",
       "    <tr>\n",
       "      <th>2</th>\n",
       "      <td>33</td>\n",
       "      <td>70000</td>\n",
       "      <td>3444</td>\n",
       "      <td>21</td>\n",
       "      <td>144</td>\n",
       "      <td>1</td>\n",
       "      <td>91</td>\n",
       "      <td>4</td>\n",
       "      <td>1</td>\n",
       "      <td>8</td>\n",
       "      <td>1</td>\n",
       "      <td>2</td>\n",
       "      <td>1</td>\n",
       "      <td>0</td>\n",
       "      <td>1</td>\n",
       "      <td>0</td>\n",
       "      <td>1</td>\n",
       "      <td>10</td>\n",
       "      <td>0</td>\n",
       "    </tr>\n",
       "    <tr>\n",
       "      <th>3</th>\n",
       "      <td>36</td>\n",
       "      <td>100000</td>\n",
       "      <td>2415</td>\n",
       "      <td>22</td>\n",
       "      <td>73</td>\n",
       "      <td>1</td>\n",
       "      <td>86</td>\n",
       "      <td>4</td>\n",
       "      <td>0</td>\n",
       "      <td>4</td>\n",
       "      <td>1</td>\n",
       "      <td>3</td>\n",
       "      <td>1</td>\n",
       "      <td>0</td>\n",
       "      <td>1</td>\n",
       "      <td>0</td>\n",
       "      <td>1</td>\n",
       "      <td>10</td>\n",
       "      <td>1</td>\n",
       "    </tr>\n",
       "    <tr>\n",
       "      <th>4</th>\n",
       "      <td>36</td>\n",
       "      <td>100000</td>\n",
       "      <td>0</td>\n",
       "      <td>23</td>\n",
       "      <td>140</td>\n",
       "      <td>1</td>\n",
       "      <td>143</td>\n",
       "      <td>3</td>\n",
       "      <td>1</td>\n",
       "      <td>4</td>\n",
       "      <td>1</td>\n",
       "      <td>3</td>\n",
       "      <td>1</td>\n",
       "      <td>0</td>\n",
       "      <td>1</td>\n",
       "      <td>0</td>\n",
       "      <td>1</td>\n",
       "      <td>10</td>\n",
       "      <td>0</td>\n",
       "    </tr>\n",
       "    <tr>\n",
       "      <th>5</th>\n",
       "      <td>56</td>\n",
       "      <td>60000</td>\n",
       "      <td>589</td>\n",
       "      <td>23</td>\n",
       "      <td>518</td>\n",
       "      <td>1</td>\n",
       "      <td>147</td>\n",
       "      <td>2</td>\n",
       "      <td>1</td>\n",
       "      <td>10</td>\n",
       "      <td>1</td>\n",
       "      <td>2</td>\n",
       "      <td>1</td>\n",
       "      <td>0</td>\n",
       "      <td>1</td>\n",
       "      <td>0</td>\n",
       "      <td>2</td>\n",
       "      <td>10</td>\n",
       "      <td>2</td>\n",
       "    </tr>\n",
       "    <tr>\n",
       "      <th>6</th>\n",
       "      <td>44</td>\n",
       "      <td>20000</td>\n",
       "      <td>1324</td>\n",
       "      <td>25</td>\n",
       "      <td>119</td>\n",
       "      <td>1</td>\n",
       "      <td>89</td>\n",
       "      <td>2</td>\n",
       "      <td>0</td>\n",
       "      <td>1</td>\n",
       "      <td>1</td>\n",
       "      <td>2</td>\n",
       "      <td>1</td>\n",
       "      <td>0</td>\n",
       "      <td>1</td>\n",
       "      <td>0</td>\n",
       "      <td>1</td>\n",
       "      <td>10</td>\n",
       "      <td>1</td>\n",
       "    </tr>\n",
       "    <tr>\n",
       "      <th>7</th>\n",
       "      <td>26</td>\n",
       "      <td>60000</td>\n",
       "      <td>172</td>\n",
       "      <td>4</td>\n",
       "      <td>21</td>\n",
       "      <td>1</td>\n",
       "      <td>140</td>\n",
       "      <td>4</td>\n",
       "      <td>0</td>\n",
       "      <td>10</td>\n",
       "      <td>2</td>\n",
       "      <td>3</td>\n",
       "      <td>0</td>\n",
       "      <td>0</td>\n",
       "      <td>0</td>\n",
       "      <td>1</td>\n",
       "      <td>1</td>\n",
       "      <td>9</td>\n",
       "      <td>1</td>\n",
       "    </tr>\n",
       "    <tr>\n",
       "      <th>8</th>\n",
       "      <td>51</td>\n",
       "      <td>50000</td>\n",
       "      <td>3132</td>\n",
       "      <td>5</td>\n",
       "      <td>449</td>\n",
       "      <td>1</td>\n",
       "      <td>176</td>\n",
       "      <td>1</td>\n",
       "      <td>0</td>\n",
       "      <td>0</td>\n",
       "      <td>2</td>\n",
       "      <td>2</td>\n",
       "      <td>1</td>\n",
       "      <td>0</td>\n",
       "      <td>0</td>\n",
       "      <td>0</td>\n",
       "      <td>1</td>\n",
       "      <td>9</td>\n",
       "      <td>0</td>\n",
       "    </tr>\n",
       "    <tr>\n",
       "      <th>9</th>\n",
       "      <td>34</td>\n",
       "      <td>100000</td>\n",
       "      <td>1770</td>\n",
       "      <td>6</td>\n",
       "      <td>26</td>\n",
       "      <td>1</td>\n",
       "      <td>101</td>\n",
       "      <td>11</td>\n",
       "      <td>0</td>\n",
       "      <td>4</td>\n",
       "      <td>1</td>\n",
       "      <td>3</td>\n",
       "      <td>1</td>\n",
       "      <td>0</td>\n",
       "      <td>1</td>\n",
       "      <td>0</td>\n",
       "      <td>2</td>\n",
       "      <td>9</td>\n",
       "      <td>1</td>\n",
       "    </tr>\n",
       "  </tbody>\n",
       "</table>\n",
       "</div>"
      ],
      "text/plain": [
       "   age  salary  balance  day  duration  campaign  pdays  previous  response  \\\n",
       "0   33   50000      882   21        39         1    151         3         0   \n",
       "1   42   50000        0   21       519         1    166         1         1   \n",
       "2   33   70000     3444   21       144         1     91         4         1   \n",
       "3   36  100000     2415   22        73         1     86         4         0   \n",
       "4   36  100000        0   23       140         1    143         3         1   \n",
       "5   56   60000      589   23       518         1    147         2         1   \n",
       "6   44   20000     1324   25       119         1     89         2         0   \n",
       "7   26   60000      172    4        21         1    140         4         0   \n",
       "8   51   50000     3132    5       449         1    176         1         0   \n",
       "9   34  100000     1770    6        26         1    101        11         0   \n",
       "\n",
       "   job_encode  marital_encode  education_encode  targeted_encode  \\\n",
       "0           0               1                 3                1   \n",
       "1           0               2                 2                1   \n",
       "2           8               1                 2                1   \n",
       "3           4               1                 3                1   \n",
       "4           4               1                 3                1   \n",
       "5          10               1                 2                1   \n",
       "6           1               1                 2                1   \n",
       "7          10               2                 3                0   \n",
       "8           0               2                 2                1   \n",
       "9           4               1                 3                1   \n",
       "\n",
       "   default_encode  housing_encode  loan_encode  contact_encode  month_encode  \\\n",
       "0               0               0            0               1            10   \n",
       "1               0               1            1               1            10   \n",
       "2               0               1            0               1            10   \n",
       "3               0               1            0               1            10   \n",
       "4               0               1            0               1            10   \n",
       "5               0               1            0               2            10   \n",
       "6               0               1            0               1            10   \n",
       "7               0               0            1               1             9   \n",
       "8               0               0            0               1             9   \n",
       "9               0               1            0               2             9   \n",
       "\n",
       "   poutcome_encode  \n",
       "0                0  \n",
       "1                1  \n",
       "2                0  \n",
       "3                1  \n",
       "4                0  \n",
       "5                2  \n",
       "6                1  \n",
       "7                1  \n",
       "8                0  \n",
       "9                1  "
      ]
     },
     "execution_count": 53,
     "metadata": {},
     "output_type": "execute_result"
    }
   ],
   "source": [
    "df1clean=pd.read_csv(\"D:\\\\SEM II\\\\Machine Learning\\\\MLProj\\\\archive (9)\\\\df1clean.csv\",header=0)\n",
    "df1clean = df1clean.drop(['Unnamed: 0'], axis=1)\n",
    "df1clean.head(10)"
   ]
  },
  {
   "cell_type": "code",
   "execution_count": 54,
   "metadata": {},
   "outputs": [
    {
     "data": {
      "text/plain": [
       "<AxesSubplot:>"
      ]
     },
     "execution_count": 54,
     "metadata": {},
     "output_type": "execute_result"
    },
    {
     "data": {
      "image/png": "[encoded data removed]",
      "text/plain": [
       "<Figure size 1080x504 with 2 Axes>"
      ]
     },
     "metadata": {
      "needs_background": "light"
     },
     "output_type": "display_data"
    }
   ],
   "source": [
    "#heatmap showing correlation between variables\n",
    "cor_mat=df1clean.corr()\n",
    "fig = plt.figure(figsize=(15,7))\n",
    "sns.heatmap(cor_mat,annot=True)"
   ]
  },
  {
   "cell_type": "markdown",
   "metadata": {},
   "source": [
    "#### - Here we can see that no two variables are highly correlated.So, we can make models including all the variables.\n"
   ]
  },
  {
   "cell_type": "code",
   "execution_count": 55,
   "metadata": {},
   "outputs": [
    {
     "data": {
      "text/html": [
       "<div>\n",
       "<style scoped>\n",
       "    .dataframe tbody tr th:only-of-type {\n",
       "        vertical-align: middle;\n",
       "    }\n",
       "\n",
       "    .dataframe tbody tr th {\n",
       "        vertical-align: top;\n",
       "    }\n",
       "\n",
       "    .dataframe thead th {\n",
       "        text-align: right;\n",
       "    }\n",
       "</style>\n",
       "<table border=\"1\" class=\"dataframe\">\n",
       "  <thead>\n",
       "    <tr style=\"text-align: right;\">\n",
       "      <th></th>\n",
       "      <th>age</th>\n",
       "      <th>salary</th>\n",
       "      <th>balance</th>\n",
       "      <th>day</th>\n",
       "      <th>duration</th>\n",
       "      <th>campaign</th>\n",
       "      <th>pdays</th>\n",
       "      <th>previous</th>\n",
       "      <th>response</th>\n",
       "      <th>job_encode</th>\n",
       "      <th>marital_encode</th>\n",
       "      <th>education_encode</th>\n",
       "      <th>targeted_encode</th>\n",
       "      <th>default_encode</th>\n",
       "      <th>housing_encode</th>\n",
       "      <th>loan_encode</th>\n",
       "      <th>contact_encode</th>\n",
       "      <th>month_encode</th>\n",
       "      <th>poutcome_encode</th>\n",
       "    </tr>\n",
       "  </thead>\n",
       "  <tbody>\n",
       "    <tr>\n",
       "      <th>age</th>\n",
       "      <td>1.000000</td>\n",
       "      <td>0.062427</td>\n",
       "      <td>0.132385</td>\n",
       "      <td>0.016893</td>\n",
       "      <td>0.056218</td>\n",
       "      <td>0.005076</td>\n",
       "      <td>-0.106570</td>\n",
       "      <td>0.001942</td>\n",
       "      <td>0.065881</td>\n",
       "      <td>-0.015738</td>\n",
       "      <td>-0.422797</td>\n",
       "      <td>-0.175497</td>\n",
       "      <td>0.144305</td>\n",
       "      <td>-0.027840</td>\n",
       "      <td>-0.170224</td>\n",
       "      <td>-0.003454</td>\n",
       "      <td>0.155722</td>\n",
       "      <td>0.013377</td>\n",
       "      <td>0.045050</td>\n",
       "    </tr>\n",
       "    <tr>\n",
       "      <th>salary</th>\n",
       "      <td>0.062427</td>\n",
       "      <td>1.000000</td>\n",
       "      <td>0.064369</td>\n",
       "      <td>0.002379</td>\n",
       "      <td>0.005734</td>\n",
       "      <td>-0.018559</td>\n",
       "      <td>-0.109139</td>\n",
       "      <td>0.028427</td>\n",
       "      <td>0.036774</td>\n",
       "      <td>0.099467</td>\n",
       "      <td>-0.042212</td>\n",
       "      <td>0.449814</td>\n",
       "      <td>-0.228338</td>\n",
       "      <td>0.000361</td>\n",
       "      <td>-0.035905</td>\n",
       "      <td>0.013788</td>\n",
       "      <td>-0.035805</td>\n",
       "      <td>0.019820</td>\n",
       "      <td>0.012361</td>\n",
       "    </tr>\n",
       "    <tr>\n",
       "      <th>balance</th>\n",
       "      <td>0.132385</td>\n",
       "      <td>0.064369</td>\n",
       "      <td>1.000000</td>\n",
       "      <td>0.071019</td>\n",
       "      <td>0.058883</td>\n",
       "      <td>-0.011926</td>\n",
       "      <td>-0.166131</td>\n",
       "      <td>0.008196</td>\n",
       "      <td>0.102309</td>\n",
       "      <td>0.045549</td>\n",
       "      <td>-0.022346</td>\n",
       "      <td>0.057636</td>\n",
       "      <td>-0.057809</td>\n",
       "      <td>-0.065445</td>\n",
       "      <td>-0.137955</td>\n",
       "      <td>-0.105280</td>\n",
       "      <td>0.031775</td>\n",
       "      <td>0.028637</td>\n",
       "      <td>0.069919</td>\n",
       "    </tr>\n",
       "    <tr>\n",
       "      <th>day</th>\n",
       "      <td>0.016893</td>\n",
       "      <td>0.002379</td>\n",
       "      <td>0.071019</td>\n",
       "      <td>1.000000</td>\n",
       "      <td>-0.012687</td>\n",
       "      <td>-0.029295</td>\n",
       "      <td>-0.093406</td>\n",
       "      <td>-0.016801</td>\n",
       "      <td>0.029952</td>\n",
       "      <td>0.015001</td>\n",
       "      <td>0.016797</td>\n",
       "      <td>0.002345</td>\n",
       "      <td>-0.026179</td>\n",
       "      <td>-0.001013</td>\n",
       "      <td>-0.066740</td>\n",
       "      <td>0.007550</td>\n",
       "      <td>-0.012330</td>\n",
       "      <td>-0.024264</td>\n",
       "      <td>0.016524</td>\n",
       "    </tr>\n",
       "    <tr>\n",
       "      <th>duration</th>\n",
       "      <td>0.056218</td>\n",
       "      <td>0.005734</td>\n",
       "      <td>0.058883</td>\n",
       "      <td>-0.012687</td>\n",
       "      <td>1.000000</td>\n",
       "      <td>-0.088394</td>\n",
       "      <td>-0.022994</td>\n",
       "      <td>-0.002150</td>\n",
       "      <td>0.342610</td>\n",
       "      <td>0.023311</td>\n",
       "      <td>-0.009075</td>\n",
       "      <td>-0.004359</td>\n",
       "      <td>-0.014729</td>\n",
       "      <td>-0.002635</td>\n",
       "      <td>-0.072070</td>\n",
       "      <td>-0.033874</td>\n",
       "      <td>-0.036360</td>\n",
       "      <td>-0.036446</td>\n",
       "      <td>0.108196</td>\n",
       "    </tr>\n",
       "    <tr>\n",
       "      <th>campaign</th>\n",
       "      <td>0.005076</td>\n",
       "      <td>-0.018559</td>\n",
       "      <td>-0.011926</td>\n",
       "      <td>-0.029295</td>\n",
       "      <td>-0.088394</td>\n",
       "      <td>1.000000</td>\n",
       "      <td>0.055118</td>\n",
       "      <td>0.135523</td>\n",
       "      <td>-0.094110</td>\n",
       "      <td>-0.007439</td>\n",
       "      <td>-0.008338</td>\n",
       "      <td>-0.021744</td>\n",
       "      <td>0.017948</td>\n",
       "      <td>-0.002064</td>\n",
       "      <td>0.063071</td>\n",
       "      <td>0.007444</td>\n",
       "      <td>0.063199</td>\n",
       "      <td>0.023224</td>\n",
       "      <td>-0.000846</td>\n",
       "    </tr>\n",
       "    <tr>\n",
       "      <th>pdays</th>\n",
       "      <td>-0.106570</td>\n",
       "      <td>-0.109139</td>\n",
       "      <td>-0.166131</td>\n",
       "      <td>-0.093406</td>\n",
       "      <td>-0.022994</td>\n",
       "      <td>0.055118</td>\n",
       "      <td>1.000000</td>\n",
       "      <td>-0.025703</td>\n",
       "      <td>-0.159009</td>\n",
       "      <td>-0.108616</td>\n",
       "      <td>-0.010550</td>\n",
       "      <td>-0.123602</td>\n",
       "      <td>0.079068</td>\n",
       "      <td>0.035301</td>\n",
       "      <td>0.345404</td>\n",
       "      <td>0.022999</td>\n",
       "      <td>0.063660</td>\n",
       "      <td>0.018843</td>\n",
       "      <td>-0.241369</td>\n",
       "    </tr>\n",
       "    <tr>\n",
       "      <th>previous</th>\n",
       "      <td>0.001942</td>\n",
       "      <td>0.028427</td>\n",
       "      <td>0.008196</td>\n",
       "      <td>-0.016801</td>\n",
       "      <td>-0.002150</td>\n",
       "      <td>0.135523</td>\n",
       "      <td>-0.025703</td>\n",
       "      <td>1.000000</td>\n",
       "      <td>0.008622</td>\n",
       "      <td>-0.001618</td>\n",
       "      <td>0.004536</td>\n",
       "      <td>0.016646</td>\n",
       "      <td>-0.001205</td>\n",
       "      <td>0.012149</td>\n",
       "      <td>0.008934</td>\n",
       "      <td>0.016549</td>\n",
       "      <td>0.043830</td>\n",
       "      <td>0.013977</td>\n",
       "      <td>0.041648</td>\n",
       "    </tr>\n",
       "    <tr>\n",
       "      <th>response</th>\n",
       "      <td>0.065881</td>\n",
       "      <td>0.036774</td>\n",
       "      <td>0.102309</td>\n",
       "      <td>0.029952</td>\n",
       "      <td>0.342610</td>\n",
       "      <td>-0.094110</td>\n",
       "      <td>-0.159009</td>\n",
       "      <td>0.008622</td>\n",
       "      <td>1.000000</td>\n",
       "      <td>0.076806</td>\n",
       "      <td>0.049234</td>\n",
       "      <td>0.070002</td>\n",
       "      <td>-0.091216</td>\n",
       "      <td>-0.028299</td>\n",
       "      <td>-0.317501</td>\n",
       "      <td>-0.115805</td>\n",
       "      <td>-0.014321</td>\n",
       "      <td>-0.009586</td>\n",
       "      <td>0.421075</td>\n",
       "    </tr>\n",
       "    <tr>\n",
       "      <th>job_encode</th>\n",
       "      <td>-0.015738</td>\n",
       "      <td>0.099467</td>\n",
       "      <td>0.045549</td>\n",
       "      <td>0.015001</td>\n",
       "      <td>0.023311</td>\n",
       "      <td>-0.007439</td>\n",
       "      <td>-0.108616</td>\n",
       "      <td>-0.001618</td>\n",
       "      <td>0.076806</td>\n",
       "      <td>1.000000</td>\n",
       "      <td>0.069830</td>\n",
       "      <td>0.101816</td>\n",
       "      <td>-0.070294</td>\n",
       "      <td>-0.020895</td>\n",
       "      <td>-0.128064</td>\n",
       "      <td>-0.030660</td>\n",
       "      <td>-0.003929</td>\n",
       "      <td>-0.004465</td>\n",
       "      <td>0.066998</td>\n",
       "    </tr>\n",
       "    <tr>\n",
       "      <th>marital_encode</th>\n",
       "      <td>-0.422797</td>\n",
       "      <td>-0.042212</td>\n",
       "      <td>-0.022346</td>\n",
       "      <td>0.016797</td>\n",
       "      <td>-0.009075</td>\n",
       "      <td>-0.008338</td>\n",
       "      <td>-0.010550</td>\n",
       "      <td>0.004536</td>\n",
       "      <td>0.049234</td>\n",
       "      <td>0.069830</td>\n",
       "      <td>1.000000</td>\n",
       "      <td>0.107485</td>\n",
       "      <td>-0.255247</td>\n",
       "      <td>-0.005632</td>\n",
       "      <td>-0.056963</td>\n",
       "      <td>-0.055435</td>\n",
       "      <td>-0.031866</td>\n",
       "      <td>-0.024130</td>\n",
       "      <td>0.044640</td>\n",
       "    </tr>\n",
       "    <tr>\n",
       "      <th>education_encode</th>\n",
       "      <td>-0.175497</td>\n",
       "      <td>0.449814</td>\n",
       "      <td>0.057636</td>\n",
       "      <td>0.002345</td>\n",
       "      <td>-0.004359</td>\n",
       "      <td>-0.021744</td>\n",
       "      <td>-0.123602</td>\n",
       "      <td>0.016646</td>\n",
       "      <td>0.070002</td>\n",
       "      <td>0.101816</td>\n",
       "      <td>0.107485</td>\n",
       "      <td>1.000000</td>\n",
       "      <td>-0.188750</td>\n",
       "      <td>-0.003552</td>\n",
       "      <td>-0.059976</td>\n",
       "      <td>0.000834</td>\n",
       "      <td>-0.087136</td>\n",
       "      <td>0.006363</td>\n",
       "      <td>0.048646</td>\n",
       "    </tr>\n",
       "    <tr>\n",
       "      <th>targeted_encode</th>\n",
       "      <td>0.144305</td>\n",
       "      <td>-0.228338</td>\n",
       "      <td>-0.057809</td>\n",
       "      <td>-0.026179</td>\n",
       "      <td>-0.014729</td>\n",
       "      <td>0.017948</td>\n",
       "      <td>0.079068</td>\n",
       "      <td>-0.001205</td>\n",
       "      <td>-0.091216</td>\n",
       "      <td>-0.070294</td>\n",
       "      <td>-0.255247</td>\n",
       "      <td>-0.188750</td>\n",
       "      <td>1.000000</td>\n",
       "      <td>0.019593</td>\n",
       "      <td>0.087470</td>\n",
       "      <td>0.070420</td>\n",
       "      <td>0.020464</td>\n",
       "      <td>0.010187</td>\n",
       "      <td>-0.072331</td>\n",
       "    </tr>\n",
       "    <tr>\n",
       "      <th>default_encode</th>\n",
       "      <td>-0.027840</td>\n",
       "      <td>0.000361</td>\n",
       "      <td>-0.065445</td>\n",
       "      <td>-0.001013</td>\n",
       "      <td>-0.002635</td>\n",
       "      <td>-0.002064</td>\n",
       "      <td>0.035301</td>\n",
       "      <td>0.012149</td>\n",
       "      <td>-0.028299</td>\n",
       "      <td>-0.020895</td>\n",
       "      <td>-0.005632</td>\n",
       "      <td>-0.003552</td>\n",
       "      <td>0.019593</td>\n",
       "      <td>1.000000</td>\n",
       "      <td>0.022644</td>\n",
       "      <td>0.052261</td>\n",
       "      <td>-0.019834</td>\n",
       "      <td>0.020123</td>\n",
       "      <td>-0.025508</td>\n",
       "    </tr>\n",
       "    <tr>\n",
       "      <th>housing_encode</th>\n",
       "      <td>-0.170224</td>\n",
       "      <td>-0.035905</td>\n",
       "      <td>-0.137955</td>\n",
       "      <td>-0.066740</td>\n",
       "      <td>-0.072070</td>\n",
       "      <td>0.063071</td>\n",
       "      <td>0.345404</td>\n",
       "      <td>0.008934</td>\n",
       "      <td>-0.317501</td>\n",
       "      <td>-0.128064</td>\n",
       "      <td>-0.056963</td>\n",
       "      <td>-0.059976</td>\n",
       "      <td>0.087470</td>\n",
       "      <td>0.022644</td>\n",
       "      <td>1.000000</td>\n",
       "      <td>0.109815</td>\n",
       "      <td>-0.069869</td>\n",
       "      <td>0.014452</td>\n",
       "      <td>-0.284523</td>\n",
       "    </tr>\n",
       "    <tr>\n",
       "      <th>loan_encode</th>\n",
       "      <td>-0.003454</td>\n",
       "      <td>0.013788</td>\n",
       "      <td>-0.105280</td>\n",
       "      <td>0.007550</td>\n",
       "      <td>-0.033874</td>\n",
       "      <td>0.007444</td>\n",
       "      <td>0.022999</td>\n",
       "      <td>0.016549</td>\n",
       "      <td>-0.115805</td>\n",
       "      <td>-0.030660</td>\n",
       "      <td>-0.055435</td>\n",
       "      <td>0.000834</td>\n",
       "      <td>0.070420</td>\n",
       "      <td>0.052261</td>\n",
       "      <td>0.109815</td>\n",
       "      <td>1.000000</td>\n",
       "      <td>-0.020904</td>\n",
       "      <td>0.000524</td>\n",
       "      <td>-0.104639</td>\n",
       "    </tr>\n",
       "    <tr>\n",
       "      <th>contact_encode</th>\n",
       "      <td>0.155722</td>\n",
       "      <td>-0.035805</td>\n",
       "      <td>0.031775</td>\n",
       "      <td>-0.012330</td>\n",
       "      <td>-0.036360</td>\n",
       "      <td>0.063199</td>\n",
       "      <td>0.063660</td>\n",
       "      <td>0.043830</td>\n",
       "      <td>-0.014321</td>\n",
       "      <td>-0.003929</td>\n",
       "      <td>-0.031866</td>\n",
       "      <td>-0.087136</td>\n",
       "      <td>0.020464</td>\n",
       "      <td>-0.019834</td>\n",
       "      <td>-0.069869</td>\n",
       "      <td>-0.020904</td>\n",
       "      <td>1.000000</td>\n",
       "      <td>0.047045</td>\n",
       "      <td>0.025114</td>\n",
       "    </tr>\n",
       "    <tr>\n",
       "      <th>month_encode</th>\n",
       "      <td>0.013377</td>\n",
       "      <td>0.019820</td>\n",
       "      <td>0.028637</td>\n",
       "      <td>-0.024264</td>\n",
       "      <td>-0.036446</td>\n",
       "      <td>0.023224</td>\n",
       "      <td>0.018843</td>\n",
       "      <td>0.013977</td>\n",
       "      <td>-0.009586</td>\n",
       "      <td>-0.004465</td>\n",
       "      <td>-0.024130</td>\n",
       "      <td>0.006363</td>\n",
       "      <td>0.010187</td>\n",
       "      <td>0.020123</td>\n",
       "      <td>0.014452</td>\n",
       "      <td>0.000524</td>\n",
       "      <td>0.047045</td>\n",
       "      <td>1.000000</td>\n",
       "      <td>-0.019992</td>\n",
       "    </tr>\n",
       "    <tr>\n",
       "      <th>poutcome_encode</th>\n",
       "      <td>0.045050</td>\n",
       "      <td>0.012361</td>\n",
       "      <td>0.069919</td>\n",
       "      <td>0.016524</td>\n",
       "      <td>0.108196</td>\n",
       "      <td>-0.000846</td>\n",
       "      <td>-0.241369</td>\n",
       "      <td>0.041648</td>\n",
       "      <td>0.421075</td>\n",
       "      <td>0.066998</td>\n",
       "      <td>0.044640</td>\n",
       "      <td>0.048646</td>\n",
       "      <td>-0.072331</td>\n",
       "      <td>-0.025508</td>\n",
       "      <td>-0.284523</td>\n",
       "      <td>-0.104639</td>\n",
       "      <td>0.025114</td>\n",
       "      <td>-0.019992</td>\n",
       "      <td>1.000000</td>\n",
       "    </tr>\n",
       "  </tbody>\n",
       "</table>\n",
       "</div>"
      ],
      "text/plain": [
       "                       age    salary   balance       day  duration  campaign  \\\n",
       "age               1.000000  0.062427  0.132385  0.016893  0.056218  0.005076   \n",
       "salary            0.062427  1.000000  0.064369  0.002379  0.005734 -0.018559   \n",
       "balance           0.132385  0.064369  1.000000  0.071019  0.058883 -0.011926   \n",
       "day               0.016893  0.002379  0.071019  1.000000 -0.012687 -0.029295   \n",
       "duration          0.056218  0.005734  0.058883 -0.012687  1.000000 -0.088394   \n",
       "campaign          0.005076 -0.018559 -0.011926 -0.029295 -0.088394  1.000000   \n",
       "pdays            -0.106570 -0.109139 -0.166131 -0.093406 -0.022994  0.055118   \n",
       "previous          0.001942  0.028427  0.008196 -0.016801 -0.002150  0.135523   \n",
       "response          0.065881  0.036774  0.102309  0.029952  0.342610 -0.094110   \n",
       "job_encode       -0.015738  0.099467  0.045549  0.015001  0.023311 -0.007439   \n",
       "marital_encode   -0.422797 -0.042212 -0.022346  0.016797 -0.009075 -0.008338   \n",
       "education_encode -0.175497  0.449814  0.057636  0.002345 -0.004359 -0.021744   \n",
       "targeted_encode   0.144305 -0.228338 -0.057809 -0.026179 -0.014729  0.017948   \n",
       "default_encode   -0.027840  0.000361 -0.065445 -0.001013 -0.002635 -0.002064   \n",
       "housing_encode   -0.170224 -0.035905 -0.137955 -0.066740 -0.072070  0.063071   \n",
       "loan_encode      -0.003454  0.013788 -0.105280  0.007550 -0.033874  0.007444   \n",
       "contact_encode    0.155722 -0.035805  0.031775 -0.012330 -0.036360  0.063199   \n",
       "month_encode      0.013377  0.019820  0.028637 -0.024264 -0.036446  0.023224   \n",
       "poutcome_encode   0.045050  0.012361  0.069919  0.016524  0.108196 -0.000846   \n",
       "\n",
       "                     pdays  previous  response  job_encode  marital_encode  \\\n",
       "age              -0.106570  0.001942  0.065881   -0.015738       -0.422797   \n",
       "salary           -0.109139  0.028427  0.036774    0.099467       -0.042212   \n",
       "balance          -0.166131  0.008196  0.102309    0.045549       -0.022346   \n",
       "day              -0.093406 -0.016801  0.029952    0.015001        0.016797   \n",
       "duration         -0.022994 -0.002150  0.342610    0.023311       -0.009075   \n",
       "campaign          0.055118  0.135523 -0.094110   -0.007439       -0.008338   \n",
       "pdays             1.000000 -0.025703 -0.159009   -0.108616       -0.010550   \n",
       "previous         -0.025703  1.000000  0.008622   -0.001618        0.004536   \n",
       "response         -0.159009  0.008622  1.000000    0.076806        0.049234   \n",
       "job_encode       -0.108616 -0.001618  0.076806    1.000000        0.069830   \n",
       "marital_encode   -0.010550  0.004536  0.049234    0.069830        1.000000   \n",
       "education_encode -0.123602  0.016646  0.070002    0.101816        0.107485   \n",
       "targeted_encode   0.079068 -0.001205 -0.091216   -0.070294       -0.255247   \n",
       "default_encode    0.035301  0.012149 -0.028299   -0.020895       -0.005632   \n",
       "housing_encode    0.345404  0.008934 -0.317501   -0.128064       -0.056963   \n",
       "loan_encode       0.022999  0.016549 -0.115805   -0.030660       -0.055435   \n",
       "contact_encode    0.063660  0.043830 -0.014321   -0.003929       -0.031866   \n",
       "month_encode      0.018843  0.013977 -0.009586   -0.004465       -0.024130   \n",
       "poutcome_encode  -0.241369  0.041648  0.421075    0.066998        0.044640   \n",
       "\n",
       "                  education_encode  targeted_encode  default_encode  \\\n",
       "age                      -0.175497         0.144305       -0.027840   \n",
       "salary                    0.449814        -0.228338        0.000361   \n",
       "balance                   0.057636        -0.057809       -0.065445   \n",
       "day                       0.002345        -0.026179       -0.001013   \n",
       "duration                 -0.004359        -0.014729       -0.002635   \n",
       "campaign                 -0.021744         0.017948       -0.002064   \n",
       "pdays                    -0.123602         0.079068        0.035301   \n",
       "previous                  0.016646        -0.001205        0.012149   \n",
       "response                  0.070002        -0.091216       -0.028299   \n",
       "job_encode                0.101816        -0.070294       -0.020895   \n",
       "marital_encode            0.107485        -0.255247       -0.005632   \n",
       "education_encode          1.000000        -0.188750       -0.003552   \n",
       "targeted_encode          -0.188750         1.000000        0.019593   \n",
       "default_encode           -0.003552         0.019593        1.000000   \n",
       "housing_encode           -0.059976         0.087470        0.022644   \n",
       "loan_encode               0.000834         0.070420        0.052261   \n",
       "contact_encode           -0.087136         0.020464       -0.019834   \n",
       "month_encode              0.006363         0.010187        0.020123   \n",
       "poutcome_encode           0.048646        -0.072331       -0.025508   \n",
       "\n",
       "                  housing_encode  loan_encode  contact_encode  month_encode  \\\n",
       "age                    -0.170224    -0.003454        0.155722      0.013377   \n",
       "salary                 -0.035905     0.013788       -0.035805      0.019820   \n",
       "balance                -0.137955    -0.105280        0.031775      0.028637   \n",
       "day                    -0.066740     0.007550       -0.012330     -0.024264   \n",
       "duration               -0.072070    -0.033874       -0.036360     -0.036446   \n",
       "campaign                0.063071     0.007444        0.063199      0.023224   \n",
       "pdays                   0.345404     0.022999        0.063660      0.018843   \n",
       "previous                0.008934     0.016549        0.043830      0.013977   \n",
       "response               -0.317501    -0.115805       -0.014321     -0.009586   \n",
       "job_encode             -0.128064    -0.030660       -0.003929     -0.004465   \n",
       "marital_encode         -0.056963    -0.055435       -0.031866     -0.024130   \n",
       "education_encode       -0.059976     0.000834       -0.087136      0.006363   \n",
       "targeted_encode         0.087470     0.070420        0.020464      0.010187   \n",
       "default_encode          0.022644     0.052261       -0.019834      0.020123   \n",
       "housing_encode          1.000000     0.109815       -0.069869      0.014452   \n",
       "loan_encode             0.109815     1.000000       -0.020904      0.000524   \n",
       "contact_encode         -0.069869    -0.020904        1.000000      0.047045   \n",
       "month_encode            0.014452     0.000524        0.047045      1.000000   \n",
       "poutcome_encode        -0.284523    -0.104639        0.025114     -0.019992   \n",
       "\n",
       "                  poutcome_encode  \n",
       "age                      0.045050  \n",
       "salary                   0.012361  \n",
       "balance                  0.069919  \n",
       "day                      0.016524  \n",
       "duration                 0.108196  \n",
       "campaign                -0.000846  \n",
       "pdays                   -0.241369  \n",
       "previous                 0.041648  \n",
       "response                 0.421075  \n",
       "job_encode               0.066998  \n",
       "marital_encode           0.044640  \n",
       "education_encode         0.048646  \n",
       "targeted_encode         -0.072331  \n",
       "default_encode          -0.025508  \n",
       "housing_encode          -0.284523  \n",
       "loan_encode             -0.104639  \n",
       "contact_encode           0.025114  \n",
       "month_encode            -0.019992  \n",
       "poutcome_encode          1.000000  "
      ]
     },
     "execution_count": 55,
     "metadata": {},
     "output_type": "execute_result"
    }
   ],
   "source": [
    "correlation=df1clean.corr()\n",
    "correlation"
   ]
  },
  {
   "cell_type": "markdown",
   "metadata": {},
   "source": [
    "## Train-Test Split"
   ]
  },
  {
   "cell_type": "code",
   "execution_count": 56,
   "metadata": {},
   "outputs": [],
   "source": [
    "X=df1clean.drop('response',axis=1) #all feature variables\n",
    "y=df1clean[\"response\"]             #only target variable"
   ]
  },
  {
   "cell_type": "code",
   "execution_count": 57,
   "metadata": {},
   "outputs": [],
   "source": [
    "from sklearn.model_selection import train_test_split\n",
    "X_train, X_test,y_train, y_test=train_test_split(X,y,test_size=0.3, random_state=1)"
   ]
  },
  {
   "cell_type": "code",
   "execution_count": 58,
   "metadata": {},
   "outputs": [
    {
     "name": "stdout",
     "output_type": "stream",
     "text": [
      "\n",
      " X_train: 5779 \n",
      " X_test: 2478 \n",
      " y_train: 5779 \n",
      " y_test: 2478\n"
     ]
    }
   ],
   "source": [
    "print(\"\\n X_train:\",len(X_train),\"\\n X_test:\",len(X_test),\"\\n y_train:\",len(y_train),\"\\n y_test:\",len(y_test))"
   ]
  },
  {
   "cell_type": "markdown",
   "metadata": {},
   "source": [
    "## K Best Feature Selection "
   ]
  },
  {
   "cell_type": "code",
   "execution_count": 59,
   "metadata": {},
   "outputs": [
    {
     "data": {
      "text/plain": [
       "array([[ 60000,    111,    178,    183,      1],\n",
       "       [ 60000,    202,    107,    148,      0],\n",
       "       [ 60000,      0,    138,    164,      1],\n",
       "       [ 20000,   1407,    112,    370,      0],\n",
       "       [ 16000,   3232,    541,    204,      0],\n",
       "       [ 55000,   4105,    212,    188,      2],\n",
       "       [ 20000,      0,    255,    356,      1],\n",
       "       [ 50000,   4105,    286,    168,      0],\n",
       "       [ 20000,   2580,   1691,    264,      0],\n",
       "       [100000,   3371,    187,    178,      2]], dtype=int64)"
      ]
     },
     "execution_count": 59,
     "metadata": {},
     "output_type": "execute_result"
    }
   ],
   "source": [
    "#select features that are best and important for analysis\n",
    "from sklearn.feature_selection import SelectKBest, chi2, f_regression\n",
    "K_best=SelectKBest(score_func=chi2,k=5).fit_transform(X_train,y_train)\n",
    "K_best[:10]"
   ]
  },
  {
   "cell_type": "code",
   "execution_count": 60,
   "metadata": {},
   "outputs": [
    {
     "data": {
      "text/html": [
       "<div>\n",
       "<style scoped>\n",
       "    .dataframe tbody tr th:only-of-type {\n",
       "        vertical-align: middle;\n",
       "    }\n",
       "\n",
       "    .dataframe tbody tr th {\n",
       "        vertical-align: top;\n",
       "    }\n",
       "\n",
       "    .dataframe thead th {\n",
       "        text-align: right;\n",
       "    }\n",
       "</style>\n",
       "<table border=\"1\" class=\"dataframe\">\n",
       "  <thead>\n",
       "    <tr style=\"text-align: right;\">\n",
       "      <th></th>\n",
       "      <th>age</th>\n",
       "      <th>salary</th>\n",
       "      <th>balance</th>\n",
       "      <th>day</th>\n",
       "      <th>duration</th>\n",
       "      <th>campaign</th>\n",
       "      <th>pdays</th>\n",
       "      <th>previous</th>\n",
       "      <th>job_encode</th>\n",
       "      <th>marital_encode</th>\n",
       "      <th>education_encode</th>\n",
       "      <th>targeted_encode</th>\n",
       "      <th>default_encode</th>\n",
       "      <th>housing_encode</th>\n",
       "      <th>loan_encode</th>\n",
       "      <th>contact_encode</th>\n",
       "      <th>month_encode</th>\n",
       "      <th>poutcome_encode</th>\n",
       "    </tr>\n",
       "  </thead>\n",
       "  <tbody>\n",
       "    <tr>\n",
       "      <th>501</th>\n",
       "      <td>46</td>\n",
       "      <td>60000</td>\n",
       "      <td>111</td>\n",
       "      <td>19</td>\n",
       "      <td>178</td>\n",
       "      <td>3</td>\n",
       "      <td>183</td>\n",
       "      <td>2</td>\n",
       "      <td>10</td>\n",
       "      <td>0</td>\n",
       "      <td>2</td>\n",
       "      <td>1</td>\n",
       "      <td>0</td>\n",
       "      <td>1</td>\n",
       "      <td>0</td>\n",
       "      <td>0</td>\n",
       "      <td>9</td>\n",
       "      <td>1</td>\n",
       "    </tr>\n",
       "    <tr>\n",
       "      <th>2228</th>\n",
       "      <td>50</td>\n",
       "      <td>60000</td>\n",
       "      <td>202</td>\n",
       "      <td>15</td>\n",
       "      <td>107</td>\n",
       "      <td>1</td>\n",
       "      <td>148</td>\n",
       "      <td>4</td>\n",
       "      <td>7</td>\n",
       "      <td>1</td>\n",
       "      <td>3</td>\n",
       "      <td>1</td>\n",
       "      <td>0</td>\n",
       "      <td>1</td>\n",
       "      <td>0</td>\n",
       "      <td>0</td>\n",
       "      <td>0</td>\n",
       "      <td>0</td>\n",
       "    </tr>\n",
       "    <tr>\n",
       "      <th>1176</th>\n",
       "      <td>31</td>\n",
       "      <td>60000</td>\n",
       "      <td>0</td>\n",
       "      <td>29</td>\n",
       "      <td>138</td>\n",
       "      <td>2</td>\n",
       "      <td>164</td>\n",
       "      <td>4</td>\n",
       "      <td>10</td>\n",
       "      <td>0</td>\n",
       "      <td>2</td>\n",
       "      <td>1</td>\n",
       "      <td>0</td>\n",
       "      <td>0</td>\n",
       "      <td>0</td>\n",
       "      <td>0</td>\n",
       "      <td>4</td>\n",
       "      <td>1</td>\n",
       "    </tr>\n",
       "    <tr>\n",
       "      <th>4511</th>\n",
       "      <td>60</td>\n",
       "      <td>20000</td>\n",
       "      <td>1407</td>\n",
       "      <td>14</td>\n",
       "      <td>112</td>\n",
       "      <td>1</td>\n",
       "      <td>370</td>\n",
       "      <td>1</td>\n",
       "      <td>1</td>\n",
       "      <td>1</td>\n",
       "      <td>2</td>\n",
       "      <td>1</td>\n",
       "      <td>0</td>\n",
       "      <td>1</td>\n",
       "      <td>0</td>\n",
       "      <td>0</td>\n",
       "      <td>8</td>\n",
       "      <td>0</td>\n",
       "    </tr>\n",
       "    <tr>\n",
       "      <th>8063</th>\n",
       "      <td>47</td>\n",
       "      <td>16000</td>\n",
       "      <td>3232</td>\n",
       "      <td>6</td>\n",
       "      <td>541</td>\n",
       "      <td>1</td>\n",
       "      <td>204</td>\n",
       "      <td>3</td>\n",
       "      <td>3</td>\n",
       "      <td>2</td>\n",
       "      <td>3</td>\n",
       "      <td>0</td>\n",
       "      <td>0</td>\n",
       "      <td>0</td>\n",
       "      <td>0</td>\n",
       "      <td>1</td>\n",
       "      <td>10</td>\n",
       "      <td>0</td>\n",
       "    </tr>\n",
       "    <tr>\n",
       "      <th>7858</th>\n",
       "      <td>61</td>\n",
       "      <td>55000</td>\n",
       "      <td>4105</td>\n",
       "      <td>18</td>\n",
       "      <td>212</td>\n",
       "      <td>7</td>\n",
       "      <td>188</td>\n",
       "      <td>3</td>\n",
       "      <td>6</td>\n",
       "      <td>1</td>\n",
       "      <td>3</td>\n",
       "      <td>1</td>\n",
       "      <td>0</td>\n",
       "      <td>0</td>\n",
       "      <td>0</td>\n",
       "      <td>0</td>\n",
       "      <td>1</td>\n",
       "      <td>2</td>\n",
       "    </tr>\n",
       "    <tr>\n",
       "      <th>4515</th>\n",
       "      <td>30</td>\n",
       "      <td>20000</td>\n",
       "      <td>0</td>\n",
       "      <td>14</td>\n",
       "      <td>255</td>\n",
       "      <td>1</td>\n",
       "      <td>356</td>\n",
       "      <td>1</td>\n",
       "      <td>1</td>\n",
       "      <td>1</td>\n",
       "      <td>2</td>\n",
       "      <td>1</td>\n",
       "      <td>0</td>\n",
       "      <td>1</td>\n",
       "      <td>1</td>\n",
       "      <td>0</td>\n",
       "      <td>8</td>\n",
       "      <td>1</td>\n",
       "    </tr>\n",
       "    <tr>\n",
       "      <th>3705</th>\n",
       "      <td>53</td>\n",
       "      <td>50000</td>\n",
       "      <td>4105</td>\n",
       "      <td>8</td>\n",
       "      <td>286</td>\n",
       "      <td>2</td>\n",
       "      <td>168</td>\n",
       "      <td>3</td>\n",
       "      <td>0</td>\n",
       "      <td>1</td>\n",
       "      <td>2</td>\n",
       "      <td>1</td>\n",
       "      <td>0</td>\n",
       "      <td>0</td>\n",
       "      <td>0</td>\n",
       "      <td>0</td>\n",
       "      <td>8</td>\n",
       "      <td>0</td>\n",
       "    </tr>\n",
       "    <tr>\n",
       "      <th>2130</th>\n",
       "      <td>38</td>\n",
       "      <td>20000</td>\n",
       "      <td>2580</td>\n",
       "      <td>8</td>\n",
       "      <td>1691</td>\n",
       "      <td>2</td>\n",
       "      <td>264</td>\n",
       "      <td>3</td>\n",
       "      <td>1</td>\n",
       "      <td>2</td>\n",
       "      <td>2</td>\n",
       "      <td>1</td>\n",
       "      <td>0</td>\n",
       "      <td>1</td>\n",
       "      <td>0</td>\n",
       "      <td>0</td>\n",
       "      <td>0</td>\n",
       "      <td>0</td>\n",
       "    </tr>\n",
       "    <tr>\n",
       "      <th>7042</th>\n",
       "      <td>62</td>\n",
       "      <td>100000</td>\n",
       "      <td>3371</td>\n",
       "      <td>25</td>\n",
       "      <td>187</td>\n",
       "      <td>1</td>\n",
       "      <td>178</td>\n",
       "      <td>2</td>\n",
       "      <td>4</td>\n",
       "      <td>1</td>\n",
       "      <td>3</td>\n",
       "      <td>1</td>\n",
       "      <td>0</td>\n",
       "      <td>0</td>\n",
       "      <td>0</td>\n",
       "      <td>0</td>\n",
       "      <td>7</td>\n",
       "      <td>2</td>\n",
       "    </tr>\n",
       "  </tbody>\n",
       "</table>\n",
       "</div>"
      ],
      "text/plain": [
       "      age  salary  balance  day  duration  campaign  pdays  previous  \\\n",
       "501    46   60000      111   19       178         3    183         2   \n",
       "2228   50   60000      202   15       107         1    148         4   \n",
       "1176   31   60000        0   29       138         2    164         4   \n",
       "4511   60   20000     1407   14       112         1    370         1   \n",
       "8063   47   16000     3232    6       541         1    204         3   \n",
       "7858   61   55000     4105   18       212         7    188         3   \n",
       "4515   30   20000        0   14       255         1    356         1   \n",
       "3705   53   50000     4105    8       286         2    168         3   \n",
       "2130   38   20000     2580    8      1691         2    264         3   \n",
       "7042   62  100000     3371   25       187         1    178         2   \n",
       "\n",
       "      job_encode  marital_encode  education_encode  targeted_encode  \\\n",
       "501           10               0                 2                1   \n",
       "2228           7               1                 3                1   \n",
       "1176          10               0                 2                1   \n",
       "4511           1               1                 2                1   \n",
       "8063           3               2                 3                0   \n",
       "7858           6               1                 3                1   \n",
       "4515           1               1                 2                1   \n",
       "3705           0               1                 2                1   \n",
       "2130           1               2                 2                1   \n",
       "7042           4               1                 3                1   \n",
       "\n",
       "      default_encode  housing_encode  loan_encode  contact_encode  \\\n",
       "501                0               1            0               0   \n",
       "2228               0               1            0               0   \n",
       "1176               0               0            0               0   \n",
       "4511               0               1            0               0   \n",
       "8063               0               0            0               1   \n",
       "7858               0               0            0               0   \n",
       "4515               0               1            1               0   \n",
       "3705               0               0            0               0   \n",
       "2130               0               1            0               0   \n",
       "7042               0               0            0               0   \n",
       "\n",
       "      month_encode  poutcome_encode  \n",
       "501              9                1  \n",
       "2228             0                0  \n",
       "1176             4                1  \n",
       "4511             8                0  \n",
       "8063            10                0  \n",
       "7858             1                2  \n",
       "4515             8                1  \n",
       "3705             8                0  \n",
       "2130             0                0  \n",
       "7042             7                2  "
      ]
     },
     "execution_count": 60,
     "metadata": {},
     "output_type": "execute_result"
    }
   ],
   "source": [
    "# Compare the newly created values with feature set values to know the selected features\n",
    "X_train.head(10)"
   ]
  },
  {
   "cell_type": "markdown",
   "metadata": {},
   "source": [
    "From the above two outputs we see that the best five predictors for response variables are:\n",
    "- salary\n",
    "- balance\n",
    "- duration\n",
    "- pdays\n",
    "- poutcome_encode"
   ]
  },
  {
   "cell_type": "code",
   "execution_count": 61,
   "metadata": {},
   "outputs": [
    {
     "name": "stdout",
     "output_type": "stream",
     "text": [
      " age: 74.688210\n",
      " salary: 97139.560486\n",
      " balance: 105598.398399\n",
      " day: 22.411866\n",
      " duration: 137941.935541\n",
      " campaign: 60.087821\n",
      " pdays: 8371.441529\n",
      " previous: 2.243719\n",
      " job_encode: 74.907717\n",
      " marital_encode: 5.204168\n",
      " education_encode: 7.648928\n",
      " targeted_encode: 9.489017\n",
      " default_encode: 2.981369\n",
      " housing_encode: 218.639814\n",
      " loan_encode: 71.269517\n",
      " contact_encode: 2.001701\n",
      " month_encode: 3.109002\n",
      " poutcome_encode: 1036.541176\n"
     ]
    }
   ],
   "source": [
    "from sklearn.feature_selection import SelectKBest\n",
    "predictors=X_train.head(0)\n",
    "selector=SelectKBest(chi2,k=5)\n",
    "sf_fit=selector.fit(X_train,y_train)\n",
    "#print feature scores\n",
    "for i in range(len(sf_fit.scores_)):\n",
    "    print(' %s: %f' % (X_train.columns[i], sf_fit.scores_[i]))"
   ]
  },
  {
   "cell_type": "code",
   "execution_count": 62,
   "metadata": {},
   "outputs": [
    {
     "data": {
      "text/plain": [
       "<function matplotlib.pyplot.show(close=None, block=None)>"
      ]
     },
     "execution_count": 62,
     "metadata": {},
     "output_type": "execute_result"
    },
    {
     "data": {
      "image/png": "[encoded data removed]",
      "text/plain": [
       "<Figure size 432x288 with 1 Axes>"
      ]
     },
     "metadata": {
      "needs_background": "light"
     },
     "output_type": "display_data"
    }
   ],
   "source": [
    "#plotting k-best features using bar graph\n",
    "dataset=pd.DataFrame()\n",
    "dataset['feature']=X.columns[range(len(sf_fit.scores_))]\n",
    "dataset['scores']=sf_fit.scores_\n",
    "dataset=dataset.sort_values(by='scores',ascending=False)\n",
    "sns.barplot(dataset['scores'],dataset['feature'],color='turquoise')\n",
    "plt.xlabel('Scores',fontsize=18)\n",
    "plt.ylabel('Categorical Feature', fontsize=18)\n",
    "plt.show"
   ]
  },
  {
   "cell_type": "markdown",
   "metadata": {},
   "source": [
    "## Predictive Models"
   ]
  },
  {
   "cell_type": "markdown",
   "metadata": {},
   "source": [
    "## 1. Logistic Regression Model"
   ]
  },
  {
   "cell_type": "code",
   "execution_count": 63,
   "metadata": {},
   "outputs": [
    {
     "data": {
      "text/plain": [
       "LogisticRegression()"
      ]
     },
     "execution_count": 63,
     "metadata": {},
     "output_type": "execute_result"
    }
   ],
   "source": [
    "from sklearn.linear_model import LogisticRegression\n",
    "lr = LogisticRegression()\n",
    "lr.fit(X_train,y_train)"
   ]
  },
  {
   "cell_type": "code",
   "execution_count": 64,
   "metadata": {
    "scrolled": true
   },
   "outputs": [
    {
     "name": "stdout",
     "output_type": "stream",
     "text": [
      "Mean CV score for Logistic Regression is 0.7736640752557709\n"
     ]
    }
   ],
   "source": [
    "from sklearn.model_selection import cross_val_score\n",
    "cv_score1= cross_val_score(lr,X_train,y_train, cv=5)\n",
    "print(\"Mean CV score for Logistic Regression is\",np.mean(cv_score1))"
   ]
  },
  {
   "cell_type": "code",
   "execution_count": 65,
   "metadata": {},
   "outputs": [
    {
     "name": "stdout",
     "output_type": "stream",
     "text": [
      "Cross validation accuracy scores: [0.76730104 0.76470588 0.77941176 0.77854671 0.77835498]\n",
      "Mean: 0.7736640752557709  Stdev: 0.0063185143463702735\n"
     ]
    }
   ],
   "source": [
    "print(\"Cross validation accuracy scores: %s\" %cv_score1)\n",
    "print('Mean:',np.mean(cv_score1),' Stdev:',np.std(cv_score1))"
   ]
  },
  {
   "cell_type": "code",
   "execution_count": 66,
   "metadata": {},
   "outputs": [
    {
     "name": "stdout",
     "output_type": "stream",
     "text": [
      "f1 score for Test set is 0.28808864265927975\n"
     ]
    }
   ],
   "source": [
    "from sklearn.metrics import f1_score\n",
    "y_pred1 = lr.predict(X_test)\n",
    "print(\"f1 score for Test set is\",f1_score(y_pred1,y_test))"
   ]
  },
  {
   "cell_type": "code",
   "execution_count": 67,
   "metadata": {},
   "outputs": [
    {
     "name": "stdout",
     "output_type": "stream",
     "text": [
      "Confusion Matrix:\n",
      "            Predicted no  Predicted yes\n",
      "Actual No           1860             80\n",
      "Actual yes           434            104\n",
      "\n",
      "Classification:\n",
      "              precision    recall  f1-score   support\n",
      "\n",
      "           0       0.81      0.96      0.88      1940\n",
      "           1       0.57      0.19      0.29       538\n",
      "\n",
      "    accuracy                           0.79      2478\n",
      "   macro avg       0.69      0.58      0.58      2478\n",
      "weighted avg       0.76      0.79      0.75      2478\n",
      "\n",
      "Accuracy: 0.7925746569814366\n"
     ]
    }
   ],
   "source": [
    "from sklearn.metrics import classification_report,confusion_matrix,accuracy_score\n",
    "\n",
    "#confusion matrix of Test data\n",
    "result=confusion_matrix(y_test,y_pred1)\n",
    "print(\"Confusion Matrix:\")\n",
    "index=['Actual No','Actual yes']\n",
    "columns=['Predicted no','Predicted yes']\n",
    "demo=pd.DataFrame(result,index=index,columns=columns)\n",
    "print(demo)\n",
    "\n",
    "#classification report for Test data\n",
    "result1=classification_report(y_test,y_pred1)\n",
    "print(\"\\nClassification:\")\n",
    "print(result1)\n",
    "\n",
    "#accuracy of Test data\n",
    "result_lr=accuracy_score(y_test,y_pred1)\n",
    "print(\"Accuracy:\",result_lr)\n"
   ]
  },
  {
   "cell_type": "markdown",
   "metadata": {},
   "source": [
    "## 2. Random Forest Classifier"
   ]
  },
  {
   "cell_type": "code",
   "execution_count": 68,
   "metadata": {},
   "outputs": [],
   "source": [
    "from sklearn.ensemble import RandomForestClassifier\n",
    "from sklearn.model_selection import cross_val_score\n",
    "from sklearn.preprocessing import StandardScaler\n",
    "from sklearn.pipeline import make_pipeline\n",
    "\n",
    "#random_state=42,max_leaf_nodes=50"
   ]
  },
  {
   "cell_type": "code",
   "execution_count": 69,
   "metadata": {},
   "outputs": [
    {
     "data": {
      "text/plain": [
       "Pipeline(steps=[('standardscaler', StandardScaler()),\n",
       "                ('randomforestclassifier',\n",
       "                 RandomForestClassifier(max_depth=5))])"
      ]
     },
     "execution_count": 69,
     "metadata": {},
     "output_type": "execute_result"
    }
   ],
   "source": [
    "from sklearn.ensemble import RandomForestClassifier\n",
    "rfc = make_pipeline(StandardScaler(),RandomForestClassifier(n_estimators=100,max_depth=5))\n",
    "#rfc = RandomForestClassifier()\n",
    "rfc.fit(X_train,y_train)"
   ]
  },
  {
   "cell_type": "code",
   "execution_count": 70,
   "metadata": {},
   "outputs": [
    {
     "name": "stdout",
     "output_type": "stream",
     "text": [
      "Mean CV score for Random Forest Classifier is 0.8354382180679758\n"
     ]
    }
   ],
   "source": [
    "cv_score2= cross_val_score(rfc,X_train,y_train, cv=5,n_jobs=10)\n",
    "print(\"Mean CV score for Random Forest Classifier is\",np.mean(cv_score2))"
   ]
  },
  {
   "cell_type": "code",
   "execution_count": 71,
   "metadata": {},
   "outputs": [
    {
     "name": "stdout",
     "output_type": "stream",
     "text": [
      "Cross validation accuracy scores: [0.83044983 0.83477509 0.84256055 0.83650519 0.83290043]\n",
      "Mean: 0.8354382180679758  Stdev: 0.0040897490448432465\n"
     ]
    }
   ],
   "source": [
    "print(\"Cross validation accuracy scores: %s\" %cv_score2)\n",
    "print('Mean:',np.mean(cv_score2),' Stdev:',np.std(cv_score2))"
   ]
  },
  {
   "cell_type": "code",
   "execution_count": 72,
   "metadata": {},
   "outputs": [
    {
     "name": "stdout",
     "output_type": "stream",
     "text": [
      "f1 score for Test set is 0.5452352231604343\n"
     ]
    }
   ],
   "source": [
    "from sklearn.metrics import f1_score\n",
    "y_pred2 = rfc.predict(X_test)\n",
    "print(\"f1 score for Test set is\",f1_score(y_test,y_pred2))"
   ]
  },
  {
   "cell_type": "code",
   "execution_count": 73,
   "metadata": {},
   "outputs": [
    {
     "name": "stdout",
     "output_type": "stream",
     "text": [
      "Confusion Matrix:\n",
      "            Predicted no  Predicted yes\n",
      "Actual No           1875             65\n",
      "Actual yes           312            226\n",
      "\n",
      "Classification:\n",
      "              precision    recall  f1-score   support\n",
      "\n",
      "           0       0.86      0.97      0.91      1940\n",
      "           1       0.78      0.42      0.55       538\n",
      "\n",
      "    accuracy                           0.85      2478\n",
      "   macro avg       0.82      0.69      0.73      2478\n",
      "weighted avg       0.84      0.85      0.83      2478\n",
      "\n",
      "Accuracy: 0.8478611783696529\n"
     ]
    }
   ],
   "source": [
    "#confusion matrix of Test data\n",
    "result=confusion_matrix(y_test,y_pred2)\n",
    "print(\"Confusion Matrix:\")\n",
    "index=['Actual No','Actual yes']\n",
    "columns=['Predicted no','Predicted yes']\n",
    "demo=pd.DataFrame(result,index=index,columns=columns)\n",
    "print(demo)\n",
    "\n",
    "#classification report for Test data\n",
    "result1=classification_report(y_test,y_pred2)\n",
    "print(\"\\nClassification:\")\n",
    "print(result1)\n",
    "\n",
    "#accuracy of Test data\n",
    "result_rfc=accuracy_score(y_test,y_pred2)\n",
    "print(\"Accuracy:\",result_rfc)\n"
   ]
  },
  {
   "cell_type": "markdown",
   "metadata": {},
   "source": [
    "## 2. SVM"
   ]
  },
  {
   "cell_type": "code",
   "execution_count": 74,
   "metadata": {},
   "outputs": [
    {
     "data": {
      "text/plain": [
       "SVC(degree=8, kernel='poly')"
      ]
     },
     "execution_count": 74,
     "metadata": {},
     "output_type": "execute_result"
    }
   ],
   "source": [
    "from sklearn.svm import SVC\n",
    "svm_classifier = SVC(kernel=\"poly\",degree=8)\n",
    "svm_classifier.fit(X_train,y_train)"
   ]
  },
  {
   "cell_type": "code",
   "execution_count": 75,
   "metadata": {},
   "outputs": [
    {
     "name": "stdout",
     "output_type": "stream",
     "text": [
      "Mean CV score for SVM is 0.7634539163258887\n"
     ]
    }
   ],
   "source": [
    "from sklearn.model_selection import cross_val_score\n",
    "cv_score3= cross_val_score(svm_classifier,X_train,y_train, cv=5)\n",
    "print(\"Mean CV score for SVM is\",np.mean(cv_score3))"
   ]
  },
  {
   "cell_type": "code",
   "execution_count": 76,
   "metadata": {},
   "outputs": [
    {
     "name": "stdout",
     "output_type": "stream",
     "text": [
      "Cross validation accuracy scores: [0.76384083 0.76470588 0.76211073 0.76297578 0.76363636]\n",
      "Mean: 0.7634539163258887  Stdev: 0.000869848578981626\n"
     ]
    }
   ],
   "source": [
    "print(\"Cross validation accuracy scores: %s\" %cv_score3)\n",
    "print('Mean:',np.mean(cv_score3),' Stdev:',np.std(cv_score3))"
   ]
  },
  {
   "cell_type": "code",
   "execution_count": 77,
   "metadata": {},
   "outputs": [
    {
     "name": "stdout",
     "output_type": "stream",
     "text": [
      "f1 score for Test set is 0.007366482504604051\n"
     ]
    }
   ],
   "source": [
    "y_pred3 = svm_classifier.predict(X_test)\n",
    "print(\"f1 score for Test set is\",f1_score(y_test,y_pred3))"
   ]
  },
  {
   "cell_type": "code",
   "execution_count": 78,
   "metadata": {},
   "outputs": [
    {
     "name": "stdout",
     "output_type": "stream",
     "text": [
      "Confusion Matrix:\n",
      "            predicted no  predicted yes\n",
      "actual No           1937              3\n",
      "actual yes           536              2\n",
      "\n",
      "Classification:\n",
      "              precision    recall  f1-score   support\n",
      "\n",
      "           0       0.78      1.00      0.88      1940\n",
      "           1       0.40      0.00      0.01       538\n",
      "\n",
      "    accuracy                           0.78      2478\n",
      "   macro avg       0.59      0.50      0.44      2478\n",
      "weighted avg       0.70      0.78      0.69      2478\n",
      "\n",
      "Accuracy: 0.7824858757062146\n"
     ]
    }
   ],
   "source": [
    "#confusion matrix of Test data\n",
    "result=confusion_matrix(y_test,y_pred3)\n",
    "print(\"Confusion Matrix:\")\n",
    "index=['actual No','actual yes']\n",
    "columns=['predicted no','predicted yes']\n",
    "demo=pd.DataFrame(result,index=index,columns=columns)\n",
    "print(demo)\n",
    "\n",
    "#classification report for Test data\n",
    "result1=classification_report(y_test,y_pred3)\n",
    "print(\"\\nClassification:\")\n",
    "print(result1)\n",
    "\n",
    "#accuracy of Test data\n",
    "result_svm=accuracy_score(y_test,y_pred3)\n",
    "print(\"Accuracy:\",result_svm)\n"
   ]
  },
  {
   "cell_type": "markdown",
   "metadata": {},
   "source": [
    "* Random Forest Classifier is the best performing model.\n",
    "\n",
    "- Among all algorithms,Random Forest Classifier achieved an accuracy of about 84.9%, suggesting a high level of strength of this model to classify the customer response with respect to all the defined customer features."
   ]
  },
  {
   "cell_type": "markdown",
   "metadata": {},
   "source": [
    "### Overall Camprison of Models"
   ]
  },
  {
   "cell_type": "code",
   "execution_count": 79,
   "metadata": {},
   "outputs": [
    {
     "name": "stdout",
     "output_type": "stream",
     "text": [
      "LR: 0.776952 (0.016398)\n",
      "RFC: 0.846860 (0.004902)\n",
      "SVM: 0.763454 (0.014486)\n"
     ]
    }
   ],
   "source": [
    "from sklearn.model_selection import KFold\n",
    "models = []#empty list for models\n",
    "models.append(('LR', LogisticRegression()))\n",
    "models.append(('RFC',RandomForestClassifier()))\n",
    "models.append(('SVM',SVC()))\n",
    "\n",
    "results= []#empty list for result values\n",
    "names= []#empty list for model names\n",
    "\n",
    "for name, model in models:\n",
    "    # defining number of folds for splitting)\n",
    "    kfold = KFold(n_splits=5, random_state=125)    \n",
    "    # train the model\n",
    "    cv_results = cross_val_score(model, X_train, y_train, cv=kfold, scoring='accuracy')    \n",
    "    results.append(cv_results)\n",
    "    names.append(name)\n",
    "    msg = \"%s: %f (%f)\" % (name, cv_results.mean(), cv_results.std())\n",
    "    print(msg)\n"
   ]
  },
  {
   "cell_type": "code",
   "execution_count": 80,
   "metadata": {},
   "outputs": [
    {
     "data": {
      "image/png": "[encoded data removed]",
      "text/plain": [
       "<Figure size 432x288 with 1 Axes>"
      ]
     },
     "metadata": {
      "needs_background": "light"
     },
     "output_type": "display_data"
    }
   ],
   "source": [
    "#plotting the models using boxplot\n",
    "fig = plt.figure()\n",
    "fig.suptitle('Perfomance of Classification Algorithms')\n",
    "ax = fig.add_subplot(111)\n",
    "plt.boxplot(results)\n",
    "ax.set_xticklabels(names)\n",
    "plt.show()"
   ]
  },
  {
   "cell_type": "markdown",
   "metadata": {},
   "source": [
    "- It is clearly seen that Random Forest Classifier is the best performing model compared to Logistic Regression and even SVM, which is supposed to give better results comparatively."
   ]
  },
  {
   "cell_type": "markdown",
   "metadata": {},
   "source": [
    "## Thank You!!"
   ]
  }
 ],
 "metadata": {
  "kernelspec": {
   "display_name": "Python 3",
   "language": "python",
   "name": "python3"
  },
  "language_info": {
   "codemirror_mode": {
    "name": "ipython",
    "version": 3
   },
   "file_extension": ".py",
   "mimetype": "text/x-python",
   "name": "python",
   "nbconvert_exporter": "python",
   "pygments_lexer": "ipython3",
   "version": "3.8.5"
  }
 },
 "nbformat": 4,
 "nbformat_minor": 4
}
